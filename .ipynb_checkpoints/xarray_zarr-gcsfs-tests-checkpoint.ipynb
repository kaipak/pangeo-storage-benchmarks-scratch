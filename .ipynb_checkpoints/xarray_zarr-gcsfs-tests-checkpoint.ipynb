{
 "cells": [
  {
   "cell_type": "markdown",
   "metadata": {},
   "source": [
    "# Demo for Xarray Zarr and GCSFS\n",
    "A very simple example of reading data in from POSIX files, reading into memory via Xarray, then outputting to Zarr through Xarray's experimental `to_zarr` method. "
   ]
  },
  {
   "cell_type": "code",
   "execution_count": 1,
   "metadata": {},
   "outputs": [
    {
     "data": {
      "text/plain": [
       "<dask.diagnostics.progress.ProgressBar at 0x7f356c00d978>"
      ]
     },
     "execution_count": 1,
     "metadata": {},
     "output_type": "execute_result"
    }
   ],
   "source": [
    "import xarray as xr\n",
    "import gcsfs\n",
    "from glob import glob\n",
    "from tqdm import tqdm\n",
    "from dask.diagnostics import ProgressBar\n",
    "from dask.distributed import LocalCluster, Client\n",
    "from xarray.backends.zarr import ZarrStore\n",
    "import dask\n",
    "\n",
    "import numpy as np\n",
    "%matplotlib inline\n",
    "ProgressBar()"
   ]
  },
  {
   "cell_type": "code",
   "execution_count": 2,
   "metadata": {
    "collapsed": true
   },
   "outputs": [],
   "source": [
    "def preprocess(ds):\n",
    "    return ds.set_coords(['lat_bnds', 'lon_bnds', 'crs'])"
   ]
  },
  {
   "cell_type": "code",
   "execution_count": 3,
   "metadata": {
    "collapsed": true
   },
   "outputs": [],
   "source": [
    "ddir = '/swot/SUM03/copernicus/dataset-duacs-rep-global-merged-allsat-phy-l4-v3/'\n",
    "all_files = sorted(glob(ddir + '????/*.nc'))\n",
    "one_year_files = sorted(glob(ddir + '1993/*.nc'))\n",
    "one_file = ddir + '1993/dt_global_allsat_phy_l4_19930702_20170110.nc'"
   ]
  },
  {
   "cell_type": "code",
   "execution_count": 4,
   "metadata": {},
   "outputs": [
    {
     "name": "stdout",
     "output_type": "stream",
     "text": [
      "CPU times: user 7.28 s, sys: 375 ms, total: 7.65 s\n",
      "Wall time: 7.68 s\n"
     ]
    }
   ],
   "source": [
    "%time ds = xr.open_mfdataset(one_year_files, preprocess=preprocess, autoclose=True)"
   ]
  },
  {
   "cell_type": "code",
   "execution_count": 5,
   "metadata": {},
   "outputs": [
    {
     "data": {
      "text/plain": [
       "<xarray.Dataset>\n",
       "Dimensions:    (latitude: 720, longitude: 1440, nv: 2, time: 365)\n",
       "Coordinates:\n",
       "  * latitude   (latitude) float32 -89.875 -89.625 -89.375 -89.125 -88.875 ...\n",
       "    lat_bnds   (latitude, nv) float32 -90.0 -89.75 -89.75 -89.5 -89.5 -89.25 ...\n",
       "  * longitude  (longitude) float32 0.125 0.375 0.625 0.875 1.125 1.375 1.625 ...\n",
       "    lon_bnds   (longitude, nv) float32 0.0 0.25 0.25 0.5 0.5 0.75 0.75 1.0 ...\n",
       "    crs        int32 -2147483647\n",
       "  * nv         (nv) int32 0 1\n",
       "  * time       (time) datetime64[ns] 1993-01-01 1993-01-02 1993-01-03 ...\n",
       "Data variables:\n",
       "    sla        (time, latitude, longitude) float64 dask.array<shape=(365, 720, 1440), chunksize=(1, 720, 1440)>\n",
       "    err        (time, latitude, longitude) float64 dask.array<shape=(365, 720, 1440), chunksize=(1, 720, 1440)>\n",
       "    ugosa      (time, latitude, longitude) float64 dask.array<shape=(365, 720, 1440), chunksize=(1, 720, 1440)>\n",
       "    vgosa      (time, latitude, longitude) float64 dask.array<shape=(365, 720, 1440), chunksize=(1, 720, 1440)>\n",
       "    adt        (time, latitude, longitude) float64 dask.array<shape=(365, 720, 1440), chunksize=(1, 720, 1440)>\n",
       "    ugos       (time, latitude, longitude) float64 dask.array<shape=(365, 720, 1440), chunksize=(1, 720, 1440)>\n",
       "    vgos       (time, latitude, longitude) float64 dask.array<shape=(365, 720, 1440), chunksize=(1, 720, 1440)>\n",
       "Attributes:\n",
       "    Conventions:                     CF-1.6\n",
       "    Metadata_Conventions:            Unidata Dataset Discovery v1.0\n",
       "    cdm_data_type:                   Grid\n",
       "    comment:                         Sea Surface Height measured by Altimetry...\n",
       "    contact:                         servicedesk.cmems@mercator-ocean.eu\n",
       "    creator_email:                   servicedesk.cmems@mercator-ocean.eu\n",
       "    creator_name:                    CMEMS - Sea Level Thematic Assembly Center\n",
       "    creator_url:                     http://marine.copernicus.eu\n",
       "    date_created:                    2014-02-26T16:09:13Z\n",
       "    date_issued:                     2014-01-06T00:00:00Z\n",
       "    date_modified:                   2015-11-10T19:42:51Z\n",
       "    geospatial_lat_max:              89.875\n",
       "    geospatial_lat_min:              -89.875\n",
       "    geospatial_lat_resolution:       0.25\n",
       "    geospatial_lat_units:            degrees_north\n",
       "    geospatial_lon_max:              359.875\n",
       "    geospatial_lon_min:              0.125\n",
       "    geospatial_lon_resolution:       0.25\n",
       "    geospatial_lon_units:            degrees_east\n",
       "    geospatial_vertical_max:         0.0\n",
       "    geospatial_vertical_min:         0.0\n",
       "    geospatial_vertical_positive:    down\n",
       "    geospatial_vertical_resolution:  point\n",
       "    geospatial_vertical_units:       m\n",
       "    history:                         2014-02-26T16:09:13Z: created by DUACS D...\n",
       "    institution:                     CLS, CNES\n",
       "    keywords:                        Oceans > Ocean Topography > Sea Surface ...\n",
       "    keywords_vocabulary:             NetCDF COARDS Climate and Forecast Stand...\n",
       "    license:                         http://marine.copernicus.eu/web/27-servi...\n",
       "    platform:                        ERS-1, Topex/Poseidon\n",
       "    processing_level:                L4\n",
       "    product_version:                 5.0\n",
       "    project:                         COPERNICUS MARINE ENVIRONMENT MONITORING...\n",
       "    references:                      http://marine.copernicus.eu\n",
       "    source:                          Altimetry measurements\n",
       "    ssalto_duacs_comment:            The reference mission used for the altim...\n",
       "    standard_name_vocabulary:        NetCDF Climate and Forecast (CF) Metadat...\n",
       "    summary:                         SSALTO/DUACS Delayed-Time Level-4 sea su...\n",
       "    time_coverage_duration:          P1D\n",
       "    time_coverage_end:               1993-01-01T12:00:00Z\n",
       "    time_coverage_resolution:        P1D\n",
       "    time_coverage_start:             1992-12-31T12:00:00Z\n",
       "    title:                           DT merged all satellites Global Ocean Gr..."
      ]
     },
     "execution_count": 5,
     "metadata": {},
     "output_type": "execute_result"
    }
   ],
   "source": [
    "ds"
   ]
  },
  {
   "cell_type": "code",
   "execution_count": null,
   "metadata": {
    "collapsed": true
   },
   "outputs": [],
   "source": [
    "%time sla_timeseries = ds.sla.mean(dim=('longitude', 'latitude')).load()"
   ]
  },
  {
   "cell_type": "code",
   "execution_count": null,
   "metadata": {
    "collapsed": true
   },
   "outputs": [],
   "source": [
    "sla_timeseries.plot()"
   ]
  },
  {
   "cell_type": "code",
   "execution_count": null,
   "metadata": {
    "collapsed": true
   },
   "outputs": [],
   "source": [
    "# Local Test\n",
    "# ds.to_zarr('zarrlocal')\n",
    "ds_localzarr = xr.open_zarr('zarrlocal')\n",
    "ds_localzarr\n",
    "%time sla_timeseries = ds_localzarr.sla.mean(dim=('longitude', 'latitude')).load()"
   ]
  },
  {
   "cell_type": "code",
   "execution_count": null,
   "metadata": {
    "collapsed": true
   },
   "outputs": [],
   "source": [
    "sla_timeseries.plot()"
   ]
  },
  {
   "cell_type": "markdown",
   "metadata": {},
   "source": [
    "## Connect to GCS\n",
    "Connect to our cloud storage, upload some data and gather some performance on this task."
   ]
  },
  {
   "cell_type": "code",
   "execution_count": 5,
   "metadata": {},
   "outputs": [
    {
     "data": {
      "text/plain": [
       "['pangeo-data/dataset-duacs-rep-global-merged-allsat-phy-l4-v3/',\n",
       " 'pangeo-data/FIB-25/',\n",
       " 'pangeo-data/newman-met-ensemble/',\n",
       " 'pangeo-data/storage-benchmarks/',\n",
       " 'pangeo-data/test998/',\n",
       " 'pangeo-data/dataset-duacs-rep-global-merged-allsat-phy-l4-v3-alt/',\n",
       " 'pangeo-data/llc4320/',\n",
       " 'pangeo-data/newman-met-ensemble-full/',\n",
       " 'pangeo-data/newmann-met-ensemble-netcdf/',\n",
       " 'pangeo-data/test999/',\n",
       " 'pangeo-data/test997/']"
      ]
     },
     "execution_count": 5,
     "metadata": {},
     "output_type": "execute_result"
    }
   ],
   "source": [
    "# Connect to GCS\n",
    "# connect to gcs\n",
    "gcsproj = gcsfs.GCSFileSystem(project='pangeo-181919', token=None)\n",
    "bucket  = gcsfs.mapping.GCSMap('pangeo-data/storage-benchmarks/', gcs=gcsproj, check=True, create=False)\n",
    "bucket\n",
    "gcsproj.ls('pangeo-data')"
   ]
  },
  {
   "cell_type": "code",
   "execution_count": null,
   "metadata": {
    "collapsed": true
   },
   "outputs": [],
   "source": [
    "with dask.set_options(get=dask.threaded.get):\n",
    "    with ProgressBar():\n",
    "        ds.to_zarr(store=bucket)"
   ]
  },
  {
   "cell_type": "code",
   "execution_count": null,
   "metadata": {
    "collapsed": true
   },
   "outputs": [],
   "source": [
    "# Delete data in case something goes wrong.\n",
    "! gsutil -q -m rm -r gs://pangeo-data/storage-benchmarks/*"
   ]
  },
  {
   "cell_type": "code",
   "execution_count": 6,
   "metadata": {},
   "outputs": [
    {
     "data": {
      "text/plain": [
       "<xarray.Dataset>\n",
       "Dimensions:    (latitude: 720, longitude: 1440, nv: 2, time: 365)\n",
       "Coordinates:\n",
       "    crs        int32 ...\n",
       "    lat_bnds   (latitude, nv) float32 dask.array<shape=(720, 2), chunksize=(720, 2)>\n",
       "  * latitude   (latitude) float32 -89.875 -89.625 -89.375 -89.125 -88.875 ...\n",
       "    lon_bnds   (longitude, nv) float32 dask.array<shape=(1440, 2), chunksize=(1440, 2)>\n",
       "  * longitude  (longitude) float32 0.125 0.375 0.625 0.875 1.125 1.375 1.625 ...\n",
       "  * nv         (nv) int32 0 1\n",
       "  * time       (time) datetime64[ns] 1993-01-01 1993-01-02 1993-01-03 ...\n",
       "Data variables:\n",
       "    adt        (time, latitude, longitude) float64 dask.array<shape=(365, 720, 1440), chunksize=(1, 720, 1440)>\n",
       "    err        (time, latitude, longitude) float64 dask.array<shape=(365, 720, 1440), chunksize=(1, 720, 1440)>\n",
       "    sla        (time, latitude, longitude) float64 dask.array<shape=(365, 720, 1440), chunksize=(1, 720, 1440)>\n",
       "    ugos       (time, latitude, longitude) float64 dask.array<shape=(365, 720, 1440), chunksize=(1, 720, 1440)>\n",
       "    ugosa      (time, latitude, longitude) float64 dask.array<shape=(365, 720, 1440), chunksize=(1, 720, 1440)>\n",
       "    vgos       (time, latitude, longitude) float64 dask.array<shape=(365, 720, 1440), chunksize=(1, 720, 1440)>\n",
       "    vgosa      (time, latitude, longitude) float64 dask.array<shape=(365, 720, 1440), chunksize=(1, 720, 1440)>\n",
       "Attributes:\n",
       "    Conventions:                     CF-1.6\n",
       "    Metadata_Conventions:            Unidata Dataset Discovery v1.0\n",
       "    cdm_data_type:                   Grid\n",
       "    comment:                         Sea Surface Height measured by Altimetry...\n",
       "    contact:                         servicedesk.cmems@mercator-ocean.eu\n",
       "    creator_email:                   servicedesk.cmems@mercator-ocean.eu\n",
       "    creator_name:                    CMEMS - Sea Level Thematic Assembly Center\n",
       "    creator_url:                     http://marine.copernicus.eu\n",
       "    date_created:                    2014-02-26T16:09:13Z\n",
       "    date_issued:                     2014-01-06T00:00:00Z\n",
       "    date_modified:                   2015-11-10T19:42:51Z\n",
       "    geospatial_lat_max:              89.875\n",
       "    geospatial_lat_min:              -89.875\n",
       "    geospatial_lat_resolution:       0.25\n",
       "    geospatial_lat_units:            degrees_north\n",
       "    geospatial_lon_max:              359.875\n",
       "    geospatial_lon_min:              0.125\n",
       "    geospatial_lon_resolution:       0.25\n",
       "    geospatial_lon_units:            degrees_east\n",
       "    geospatial_vertical_max:         0.0\n",
       "    geospatial_vertical_min:         0.0\n",
       "    geospatial_vertical_positive:    down\n",
       "    geospatial_vertical_resolution:  point\n",
       "    geospatial_vertical_units:       m\n",
       "    history:                         2014-02-26T16:09:13Z: created by DUACS D...\n",
       "    institution:                     CLS, CNES\n",
       "    keywords:                        Oceans > Ocean Topography > Sea Surface ...\n",
       "    keywords_vocabulary:             NetCDF COARDS Climate and Forecast Stand...\n",
       "    license:                         http://marine.copernicus.eu/web/27-servi...\n",
       "    platform:                        ERS-1, Topex/Poseidon\n",
       "    processing_level:                L4\n",
       "    product_version:                 5.0\n",
       "    project:                         COPERNICUS MARINE ENVIRONMENT MONITORING...\n",
       "    references:                      http://marine.copernicus.eu\n",
       "    source:                          Altimetry measurements\n",
       "    ssalto_duacs_comment:            The reference mission used for the altim...\n",
       "    standard_name_vocabulary:        NetCDF Climate and Forecast (CF) Metadat...\n",
       "    summary:                         SSALTO/DUACS Delayed-Time Level-4 sea su...\n",
       "    time_coverage_duration:          P1D\n",
       "    time_coverage_end:               1993-01-01T12:00:00Z\n",
       "    time_coverage_resolution:        P1D\n",
       "    time_coverage_start:             1992-12-31T12:00:00Z\n",
       "    title:                           DT merged all satellites Global Ocean Gr..."
      ]
     },
     "execution_count": 6,
     "metadata": {},
     "output_type": "execute_result"
    }
   ],
   "source": [
    "with dask.set_options(get=dask.threaded.get):\n",
    "    with ProgressBar():\n",
    "        ds_zarr = xr.open_zarr(bucket)\n",
    "ds_zarr"
   ]
  },
  {
   "cell_type": "code",
   "execution_count": 7,
   "metadata": {},
   "outputs": [
    {
     "name": "stdout",
     "output_type": "stream",
     "text": [
      "[########################################] | 100% Completed | 36.6s\n",
      "CPU times: user 51.4 s, sys: 19.9 s, total: 1min 11s\n",
      "Wall time: 37 s\n",
      "[########################################] | 100% Completed |  1min 10.9s\n",
      "CPU times: user 18.8 s, sys: 9.34 s, total: 28.2 s\n",
      "Wall time: 1min 10s\n"
     ]
    }
   ],
   "source": [
    "%time sla_timeseries_zarr = ds_zarr.sla.mean(dim=('longitude', 'latitude')).load()\n",
    "%time sla_timeseries = ds.sla.mean(dim=('longitude', 'latitude')).load()"
   ]
  },
  {
   "cell_type": "code",
   "execution_count": null,
   "metadata": {
    "collapsed": true
   },
   "outputs": [],
   "source": []
  }
 ],
 "metadata": {
  "anaconda-cloud": {},
  "kernelspec": {
   "display_name": "Python [conda env:kai]",
   "language": "python",
   "name": "conda-env-kai-py"
  },
  "language_info": {
   "codemirror_mode": {
    "name": "ipython",
    "version": 3
   },
   "file_extension": ".py",
   "mimetype": "text/x-python",
   "name": "python",
   "nbconvert_exporter": "python",
   "pygments_lexer": "ipython3",
   "version": "3.6.2"
  }
 },
 "nbformat": 4,
 "nbformat_minor": 2
}
