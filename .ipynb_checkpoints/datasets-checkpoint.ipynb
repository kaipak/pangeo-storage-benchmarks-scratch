{
 "cells": [
  {
   "cell_type": "code",
   "execution_count": 1,
   "metadata": {},
   "outputs": [
    {
     "name": "stderr",
     "output_type": "stream",
     "text": [
      "/opt/conda/lib/python3.6/site-packages/h5py/__init__.py:36: FutureWarning: Conversion of the second argument of issubdtype from `float` to `np.floating` is deprecated. In future, it will be treated as `np.float64 == np.dtype(float).type`.\n",
      "  from ._conv import register_converters as _register_converters\n"
     ]
    }
   ],
   "source": [
    "import xarray as xr\n",
    "import dask\n",
    "import dask.array as da\n",
    "import numpy as np\n",
    "import pandas as pd\n",
    "import dask.multiprocessing\n",
    "import blosc\n",
    "\n",
    "import zarr\n",
    "import h5py\n",
    "import gcsfs\n",
    "from dask_kubernetes import KubeCluster\n",
    "from dask.distributed import Client, progress, LocalCluster"
   ]
  },
  {
   "cell_type": "code",
   "execution_count": 2,
   "metadata": {},
   "outputs": [
    {
     "data": {
      "application/vnd.jupyter.widget-view+json": {
       "model_id": "54134633fcc94aa8a6b981f43ead45ae",
       "version_major": 2,
       "version_minor": 0
      },
      "text/html": [
       "<p>Failed to display Jupyter Widget of type <code>VBox</code>.</p>\n",
       "<p>\n",
       "  If you're reading this message in the Jupyter Notebook or JupyterLab Notebook, it may mean\n",
       "  that the widgets JavaScript is still loading. If this message persists, it\n",
       "  likely means that the widgets JavaScript library is either not installed or\n",
       "  not enabled. See the <a href=\"https://ipywidgets.readthedocs.io/en/stable/user_install.html\">Jupyter\n",
       "  Widgets Documentation</a> for setup instructions.\n",
       "</p>\n",
       "<p>\n",
       "  If you're reading this message in another frontend (for example, a static\n",
       "  rendering on GitHub or <a href=\"https://nbviewer.jupyter.org/\">NBViewer</a>),\n",
       "  it may mean that your frontend doesn't currently support widgets.\n",
       "</p>\n"
      ],
      "text/plain": [
       "VBox(children=(HTML(value='<h2>KubeCluster</h2>'), HBox(children=(HTML(value='\\n<div>\\n  <style scoped>\\n    .dataframe tbody tr th:only-of-type {\\n        vertical-align: middle;\\n    }\\n\\n    .dataframe tbody tr th {\\n        vertical-align: top;\\n    }\\n\\n    .dataframe thead th {\\n        text-align: right;\\n    }\\n  </style>\\n  <table style=\"text-align: right;\">\\n    <tr><th>Workers</th> <td>0</td></tr>\\n    <tr><th>Cores</th> <td>0</td></tr>\\n    <tr><th>Memory</th> <td>0 B</td></tr>\\n  </table>\\n</div>\\n', layout=Layout(min_width='150px')), Accordion(children=(HBox(children=(IntText(value=0, description='Workers', layout=Layout(width='150px')), Button(description='Scale', layout=Layout(width='150px'), style=ButtonStyle()))), HBox(children=(IntText(value=0, description='Minimum', layout=Layout(width='150px')), IntText(value=0, description='Maximum', layout=Layout(width='150px')), Button(description='Adapt', layout=Layout(width='150px'), style=ButtonStyle())))), layout=Layout(min_width='500px'), selected_index=None, _titles={'0': 'Manual Scaling', '1': 'Adaptive Scaling'}))), HTML(value='<p><b>Dashboard: </b><a href=\"/user/kaipak/proxy/8787/status\" target=\"_blank\">/user/kaipak/proxy/8787/status</a></p>\\n')))"
      ]
     },
     "metadata": {},
     "output_type": "display_data"
    }
   ],
   "source": [
    "cluster = KubeCluster(n_workers=20)\n",
    "# cluster.adapt()\n",
    "cluster\n"
   ]
  },
  {
   "cell_type": "code",
   "execution_count": null,
   "metadata": {},
   "outputs": [],
   "source": [
    "cluster.close()"
   ]
  },
  {
   "cell_type": "code",
   "execution_count": 3,
   "metadata": {},
   "outputs": [
    {
     "data": {
      "text/html": [
       "<table style=\"border: 2px solid white;\">\n",
       "<tr>\n",
       "<td style=\"vertical-align: top; border: 0px solid white\">\n",
       "<h3>Client</h3>\n",
       "<ul>\n",
       "  <li><b>Scheduler: </b>tcp://10.20.207.9:46095\n",
       "  <li><b>Dashboard: </b><a href='/user/kaipak/proxy/8787/status' target='_blank'>/user/kaipak/proxy/8787/status</a>\n",
       "</ul>\n",
       "</td>\n",
       "<td style=\"vertical-align: top; border: 0px solid white\">\n",
       "<h3>Cluster</h3>\n",
       "<ul>\n",
       "  <li><b>Workers: </b>0</li>\n",
       "  <li><b>Cores: </b>0</li>\n",
       "  <li><b>Memory: </b>0 B</li>\n",
       "</ul>\n",
       "</td>\n",
       "</tr>\n",
       "</table>"
      ],
      "text/plain": [
       "<Client: scheduler='tcp://10.20.207.9:46095' processes=0 cores=0>"
      ]
     },
     "execution_count": 3,
     "metadata": {},
     "output_type": "execute_result"
    }
   ],
   "source": [
    "#client = Client(cluster)\n",
    "from dask.distributed import Client\n",
    "client = Client(cluster)\n",
    "client"
   ]
  },
  {
   "cell_type": "code",
   "execution_count": 4,
   "metadata": {},
   "outputs": [],
   "source": [
    "def randn(shape, frac_nan=None, chunks=None, seed=0):\n",
    "    rng = np.random.RandomState(seed)\n",
    "    if chunks is None:\n",
    "        x = rng.standard_normal(shape)\n",
    "    else:\n",
    "        import dask.array as da\n",
    "        rng = da.random.RandomState(seed)\n",
    "        x = rng.standard_normal(shape, chunks=chunks)\n",
    "\n",
    "    if frac_nan is not None:\n",
    "        inds = rng.choice(range(x.size), int(x.size * frac_nan))\n",
    "        x.flat[inds] = np.nan\n",
    "\n",
    "    return x\n",
    "\n",
    "def randint(low, high=None, size=None, frac_minus=None, seed=0):\n",
    "    rng = np.random.RandomState(seed)\n",
    "    x = rng.randint(low, high, size)\n",
    "    if frac_minus is not None:\n",
    "        inds = rng.choice(range(x.size), int(x.size * frac_minus))\n",
    "        x.flat[inds] = -1\n",
    "\n",
    "    return x\n",
    "\n",
    "def rand_numpy(nz=None, empty=True):\n",
    "    \"\"\"\n",
    "    Generate random 3D Numpy dataset.\n",
    "\n",
    "    :params;\n",
    "\n",
    "    \"\"\"\n",
    "    if nz == None:\n",
    "        nz = getTestConfigValue(\"num_slices\")\n",
    "    if not nz or nz <= 0:\n",
    "        raise NotImplementedError(\"num_slices invalid\")\n",
    "    ny = 256\n",
    "    nx = 512\n",
    "    dtype = 'f8'\n",
    "    # Create a dataset\n",
    "    #dset = f.create_dataset(_DATASET_NAME, shape=(nz,ny,nx), dtype=dtype)\n",
    "\n",
    "    data = np.random.rand(*dset.shape).astype(dset.dtype)\n",
    "    return data\n",
    "\n",
    "def rand_xarray(nt=None):\n",
    "    \"\"\"\n",
    "    Generate synthetic geoscience-like Xarray dataset filled with random \n",
    "    data.\n",
    "    :param ds: dataset that gets generated.\n",
    "    :param nt: number of timesteps for data. Primary control over how large\n",
    "               the dataset is.\n",
    "    :returns: A synthetic xarray dataset that mimics geodata.\n",
    "    \"\"\"\n",
    "\n",
    "    ds = xr.Dataset()\n",
    "    if nt == None:\n",
    "        nt = getTestConfigValue(\"ntime_slices\")\n",
    "    ny = 1000\n",
    "    nx = 1000\n",
    "    block_chunks = {'time': nt / 4,\n",
    "                             'lon': nx / 3,\n",
    "                             'lat': ny / 3}\n",
    "\n",
    "    time_chunks = {'time': int(nt / 36)}\n",
    "\n",
    "    times = pd.date_range('1970-01-01', periods=nt, freq='D')\n",
    "    lons = xr.DataArray(np.linspace(0, 360, nx), dims=('lon', ),\n",
    "                        attrs={'units': 'degrees east',\n",
    "                               'long_name': 'longitude'})\n",
    "    lats = xr.DataArray(np.linspace(-90, 90, ny), dims=('lat', ),\n",
    "                        attrs={'units':'degrees north',\n",
    "                               'long_name': 'latitude'})\n",
    "    ds['foo'] = xr.DataArray(randn((nt, nx, ny), frac_nan=0.2),\n",
    "                             coords={'lon': lons, 'lat': lats,'time': times},\n",
    "                             dims=('time', 'lon', 'lat'),\n",
    "                             name='foo', encoding=None,\n",
    "                             attrs={'units': 'foo units',\n",
    "                                    'description': 'a description'})\n",
    "    ds['bar'] = xr.DataArray(randn((nt, nx, ny), frac_nan=0.2),\n",
    "                             coords={'lon': lons, 'lat': lats, 'time': times},\n",
    "                             dims=('time', 'lon', 'lat'),\n",
    "                             name='bar', encoding=None,\n",
    "                             attrs={'units': 'bar units',\n",
    "                                    'description': 'a description'})\n",
    "    ds['baz'] = xr.DataArray(randn((nx, ny), frac_nan=0.2).astype(np.float32),\n",
    "                             coords={'lon': lons, 'lat': lats},\n",
    "                             dims=('lon', 'lat'),\n",
    "                             name='baz', encoding=None,\n",
    "                             attrs={'units': 'baz units',\n",
    "                                    'description': 'a description'})\n",
    "\n",
    "    ds.attrs = {'history': 'created for xarray benchmarking'}\n",
    "\n",
    "    oinds = {'time': randint(0, nt, 120),\n",
    "             'lon': randint(0, nx, 20),\n",
    "             'lat': randint(0, ny, 10)}\n",
    "    vinds = {'time': xr.DataArray(randint(0, nt, 120), dims='x'),\n",
    "             'lon': xr.DataArray(randint(0, nx, 120), dims='x'),\n",
    "             'lat': slice(3, 20)}\n",
    "\n",
    "    return ds\n",
    "\n"
   ]
  },
  {
   "cell_type": "code",
   "execution_count": null,
   "metadata": {},
   "outputs": [],
   "source": []
  },
  {
   "cell_type": "code",
   "execution_count": 25,
   "metadata": {},
   "outputs": [
    {
     "data": {
      "text/plain": [
       "250.5068130493164"
      ]
     },
     "execution_count": 25,
     "metadata": {},
     "output_type": "execute_result"
    }
   ],
   "source": [
    "xr_ds = rand_xarray(125)\n",
    "xr_ds.nbytes/ 1024**2"
   ]
  },
  {
   "cell_type": "code",
   "execution_count": 26,
   "metadata": {},
   "outputs": [
    {
     "data": {
      "text/plain": [
       "10.058283805847168"
      ]
     },
     "execution_count": 26,
     "metadata": {},
     "output_type": "execute_result"
    }
   ],
   "source": [
    "chunks = (5, 1000, 1000)\n",
    "size = (1350, 1000, 1000)\n",
    "dask_arr = da.random.normal(10, 0.1, size=size, chunks=chunks)\n",
    "dask_arr.nbytes/ 1024**3"
   ]
  },
  {
   "cell_type": "code",
   "execution_count": 6,
   "metadata": {},
   "outputs": [
    {
     "name": "stdout",
     "output_type": "stream",
     "text": [
      "CPU times: user 147 ms, sys: 20 ms, total: 167 ms\n",
      "Wall time: 623 ms\n"
     ]
    },
    {
     "data": {
      "text/plain": [
       "9.99998969124158"
      ]
     },
     "execution_count": 6,
     "metadata": {},
     "output_type": "execute_result"
    }
   ],
   "source": [
    "%time dask_arr.mean().compute()"
   ]
  },
  {
   "cell_type": "code",
   "execution_count": 7,
   "metadata": {},
   "outputs": [],
   "source": [
    "! gsutil -q -m rm -rf gs://storage-benchmarks/gcsfs-test-nb-zarr"
   ]
  },
  {
   "cell_type": "code",
   "execution_count": 8,
   "metadata": {},
   "outputs": [],
   "source": [
    "fs = gcsfs.GCSFileSystem(project='pangeo-181919', token='cache')\n",
    "gcsmapcache =  gcsfs.GCSMap('storage-benchmarks/gcsfs-test-nb')\n",
    "token = fs.session.credentials"
   ]
  },
  {
   "cell_type": "code",
   "execution_count": 9,
   "metadata": {},
   "outputs": [],
   "source": [
    "token = fs.session.credentials"
   ]
  },
  {
   "cell_type": "code",
   "execution_count": 10,
   "metadata": {},
   "outputs": [],
   "source": [
    "fs2 = gcsfs.GCSFileSystem(project='pangeo-181919', token=token)"
   ]
  },
  {
   "cell_type": "code",
   "execution_count": 11,
   "metadata": {},
   "outputs": [],
   "source": [
    "gcsmap_zarr = gcsfs.GCSMap('storage-benchmarks/gcsfs-test-nb-zarr', gcs=fs2)"
   ]
  },
  {
   "cell_type": "code",
   "execution_count": 12,
   "metadata": {},
   "outputs": [],
   "source": [
    "zarr_ds = zarr.create(dask_arr.shape, chunks=chunks, \n",
    "                       dtype=dask_arr.dtype, store=gcsmap_zarr, overwrite=True)"
   ]
  },
  {
   "cell_type": "code",
   "execution_count": null,
   "metadata": {},
   "outputs": [],
   "source": [
    "def test_store(zarr_arr):\n",
    "    for get in [dask.get, dask.threaded.get, dask.multiprocessing.get]:\n",
    "        with dask.set_options(get=get):\n",
    "            %time dask_arr.store(zarr_arr, lock=False)"
   ]
  },
  {
   "cell_type": "code",
   "execution_count": 13,
   "metadata": {},
   "outputs": [
    {
     "name": "stdout",
     "output_type": "stream",
     "text": [
      "CPU times: user 183 ms, sys: 20 ms, total: 203 ms\n",
      "Wall time: 2.35 s\n"
     ]
    }
   ],
   "source": [
    "%time dask_arr.store(zarr_ds, lock=False)"
   ]
  },
  {
   "cell_type": "code",
   "execution_count": 14,
   "metadata": {},
   "outputs": [],
   "source": [
    "my_data = da.from_array(zarr_ds, chunks=chunks)"
   ]
  },
  {
   "cell_type": "code",
   "execution_count": 18,
   "metadata": {},
   "outputs": [
    {
     "name": "stderr",
     "output_type": "stream",
     "text": [
      "distributed.utils - ERROR - ('mean_agg-aggregate-94eeb873a29e1fd4ca739027ddc210a2',)\n",
      "Traceback (most recent call last):\n",
      "  File \"/opt/conda/lib/python3.6/site-packages/distributed/client.py\", line 1368, in _gather\n",
      "    st = self.futures[key]\n",
      "KeyError: \"('mean_agg-aggregate-94eeb873a29e1fd4ca739027ddc210a2',)\"\n",
      "\n",
      "During handling of the above exception, another exception occurred:\n",
      "\n",
      "Traceback (most recent call last):\n",
      "  File \"/opt/conda/lib/python3.6/site-packages/distributed/utils.py\", line 238, in f\n",
      "    result[0] = yield make_coro()\n",
      "  File \"/opt/conda/lib/python3.6/site-packages/tornado/gen.py\", line 1099, in run\n",
      "    value = future.result()\n",
      "  File \"/opt/conda/lib/python3.6/site-packages/tornado/gen.py\", line 1107, in run\n",
      "    yielded = self.gen.throw(*exc_info)\n",
      "  File \"/opt/conda/lib/python3.6/site-packages/distributed/client.py\", line 1374, in _gather\n",
      "    None)\n",
      "  File \"/opt/conda/lib/python3.6/site-packages/six.py\", line 693, in reraise\n",
      "    raise value\n",
      "concurrent.futures._base.CancelledError: ('mean_agg-aggregate-94eeb873a29e1fd4ca739027ddc210a2',)\n"
     ]
    },
    {
     "ename": "KeyboardInterrupt",
     "evalue": "",
     "output_type": "error",
     "traceback": [
      "\u001b[0;31m---------------------------------------------------------------------------\u001b[0m",
      "\u001b[0;31mKeyboardInterrupt\u001b[0m                         Traceback (most recent call last)",
      "\u001b[0;32m<timed eval>\u001b[0m in \u001b[0;36m<module>\u001b[0;34m()\u001b[0m\n",
      "\u001b[0;32m/opt/conda/lib/python3.6/site-packages/dask/base.py\u001b[0m in \u001b[0;36mcompute\u001b[0;34m(self, **kwargs)\u001b[0m\n\u001b[1;32m    153\u001b[0m         \u001b[0mdask\u001b[0m\u001b[0;34m.\u001b[0m\u001b[0mbase\u001b[0m\u001b[0;34m.\u001b[0m\u001b[0mcompute\u001b[0m\u001b[0;34m\u001b[0m\u001b[0m\n\u001b[1;32m    154\u001b[0m         \"\"\"\n\u001b[0;32m--> 155\u001b[0;31m         \u001b[0;34m(\u001b[0m\u001b[0mresult\u001b[0m\u001b[0;34m,\u001b[0m\u001b[0;34m)\u001b[0m \u001b[0;34m=\u001b[0m \u001b[0mcompute\u001b[0m\u001b[0;34m(\u001b[0m\u001b[0mself\u001b[0m\u001b[0;34m,\u001b[0m \u001b[0mtraverse\u001b[0m\u001b[0;34m=\u001b[0m\u001b[0;32mFalse\u001b[0m\u001b[0;34m,\u001b[0m \u001b[0;34m**\u001b[0m\u001b[0mkwargs\u001b[0m\u001b[0;34m)\u001b[0m\u001b[0;34m\u001b[0m\u001b[0m\n\u001b[0m\u001b[1;32m    156\u001b[0m         \u001b[0;32mreturn\u001b[0m \u001b[0mresult\u001b[0m\u001b[0;34m\u001b[0m\u001b[0m\n\u001b[1;32m    157\u001b[0m \u001b[0;34m\u001b[0m\u001b[0m\n",
      "\u001b[0;32m/opt/conda/lib/python3.6/site-packages/dask/base.py\u001b[0m in \u001b[0;36mcompute\u001b[0;34m(*args, **kwargs)\u001b[0m\n\u001b[1;32m    402\u001b[0m     postcomputes = [a.__dask_postcompute__() if is_dask_collection(a)\n\u001b[1;32m    403\u001b[0m                     else (None, a) for a in args]\n\u001b[0;32m--> 404\u001b[0;31m     \u001b[0mresults\u001b[0m \u001b[0;34m=\u001b[0m \u001b[0mget\u001b[0m\u001b[0;34m(\u001b[0m\u001b[0mdsk\u001b[0m\u001b[0;34m,\u001b[0m \u001b[0mkeys\u001b[0m\u001b[0;34m,\u001b[0m \u001b[0;34m**\u001b[0m\u001b[0mkwargs\u001b[0m\u001b[0;34m)\u001b[0m\u001b[0;34m\u001b[0m\u001b[0m\n\u001b[0m\u001b[1;32m    405\u001b[0m     \u001b[0mresults_iter\u001b[0m \u001b[0;34m=\u001b[0m \u001b[0miter\u001b[0m\u001b[0;34m(\u001b[0m\u001b[0mresults\u001b[0m\u001b[0;34m)\u001b[0m\u001b[0;34m\u001b[0m\u001b[0m\n\u001b[1;32m    406\u001b[0m     return tuple(a if f is None else f(next(results_iter), *a)\n",
      "\u001b[0;32m/opt/conda/lib/python3.6/site-packages/distributed/client.py\u001b[0m in \u001b[0;36mget\u001b[0;34m(self, dsk, keys, restrictions, loose_restrictions, resources, sync, asynchronous, direct, **kwargs)\u001b[0m\n\u001b[1;32m   2073\u001b[0m             \u001b[0;32mtry\u001b[0m\u001b[0;34m:\u001b[0m\u001b[0;34m\u001b[0m\u001b[0m\n\u001b[1;32m   2074\u001b[0m                 results = self.gather(packed, asynchronous=asynchronous,\n\u001b[0;32m-> 2075\u001b[0;31m                                       direct=direct)\n\u001b[0m\u001b[1;32m   2076\u001b[0m             \u001b[0;32mfinally\u001b[0m\u001b[0;34m:\u001b[0m\u001b[0;34m\u001b[0m\u001b[0m\n\u001b[1;32m   2077\u001b[0m                 \u001b[0;32mfor\u001b[0m \u001b[0mf\u001b[0m \u001b[0;32min\u001b[0m \u001b[0mfutures\u001b[0m\u001b[0;34m.\u001b[0m\u001b[0mvalues\u001b[0m\u001b[0;34m(\u001b[0m\u001b[0;34m)\u001b[0m\u001b[0;34m:\u001b[0m\u001b[0;34m\u001b[0m\u001b[0m\n",
      "\u001b[0;32m/opt/conda/lib/python3.6/site-packages/distributed/client.py\u001b[0m in \u001b[0;36mgather\u001b[0;34m(self, futures, errors, maxsize, direct, asynchronous)\u001b[0m\n\u001b[1;32m   1498\u001b[0m             return self.sync(self._gather, futures, errors=errors,\n\u001b[1;32m   1499\u001b[0m                              \u001b[0mdirect\u001b[0m\u001b[0;34m=\u001b[0m\u001b[0mdirect\u001b[0m\u001b[0;34m,\u001b[0m \u001b[0mlocal_worker\u001b[0m\u001b[0;34m=\u001b[0m\u001b[0mlocal_worker\u001b[0m\u001b[0;34m,\u001b[0m\u001b[0;34m\u001b[0m\u001b[0m\n\u001b[0;32m-> 1500\u001b[0;31m                              asynchronous=asynchronous)\n\u001b[0m\u001b[1;32m   1501\u001b[0m \u001b[0;34m\u001b[0m\u001b[0m\n\u001b[1;32m   1502\u001b[0m     \u001b[0;34m@\u001b[0m\u001b[0mgen\u001b[0m\u001b[0;34m.\u001b[0m\u001b[0mcoroutine\u001b[0m\u001b[0;34m\u001b[0m\u001b[0m\n",
      "\u001b[0;32m/opt/conda/lib/python3.6/site-packages/distributed/client.py\u001b[0m in \u001b[0;36msync\u001b[0;34m(self, func, *args, **kwargs)\u001b[0m\n\u001b[1;32m    613\u001b[0m             \u001b[0;32mreturn\u001b[0m \u001b[0mfuture\u001b[0m\u001b[0;34m\u001b[0m\u001b[0m\n\u001b[1;32m    614\u001b[0m         \u001b[0;32melse\u001b[0m\u001b[0;34m:\u001b[0m\u001b[0;34m\u001b[0m\u001b[0m\n\u001b[0;32m--> 615\u001b[0;31m             \u001b[0;32mreturn\u001b[0m \u001b[0msync\u001b[0m\u001b[0;34m(\u001b[0m\u001b[0mself\u001b[0m\u001b[0;34m.\u001b[0m\u001b[0mloop\u001b[0m\u001b[0;34m,\u001b[0m \u001b[0mfunc\u001b[0m\u001b[0;34m,\u001b[0m \u001b[0;34m*\u001b[0m\u001b[0margs\u001b[0m\u001b[0;34m,\u001b[0m \u001b[0;34m**\u001b[0m\u001b[0mkwargs\u001b[0m\u001b[0;34m)\u001b[0m\u001b[0;34m\u001b[0m\u001b[0m\n\u001b[0m\u001b[1;32m    616\u001b[0m \u001b[0;34m\u001b[0m\u001b[0m\n\u001b[1;32m    617\u001b[0m     \u001b[0;32mdef\u001b[0m \u001b[0m__repr__\u001b[0m\u001b[0;34m(\u001b[0m\u001b[0mself\u001b[0m\u001b[0;34m)\u001b[0m\u001b[0;34m:\u001b[0m\u001b[0;34m\u001b[0m\u001b[0m\n",
      "\u001b[0;32m/opt/conda/lib/python3.6/site-packages/distributed/utils.py\u001b[0m in \u001b[0;36msync\u001b[0;34m(loop, func, *args, **kwargs)\u001b[0m\n\u001b[1;32m    250\u001b[0m     \u001b[0;32melse\u001b[0m\u001b[0;34m:\u001b[0m\u001b[0;34m\u001b[0m\u001b[0m\n\u001b[1;32m    251\u001b[0m         \u001b[0;32mwhile\u001b[0m \u001b[0;32mnot\u001b[0m \u001b[0me\u001b[0m\u001b[0;34m.\u001b[0m\u001b[0mis_set\u001b[0m\u001b[0;34m(\u001b[0m\u001b[0;34m)\u001b[0m\u001b[0;34m:\u001b[0m\u001b[0;34m\u001b[0m\u001b[0m\n\u001b[0;32m--> 252\u001b[0;31m             \u001b[0me\u001b[0m\u001b[0;34m.\u001b[0m\u001b[0mwait\u001b[0m\u001b[0;34m(\u001b[0m\u001b[0;36m10\u001b[0m\u001b[0;34m)\u001b[0m\u001b[0;34m\u001b[0m\u001b[0m\n\u001b[0m\u001b[1;32m    253\u001b[0m     \u001b[0;32mif\u001b[0m \u001b[0merror\u001b[0m\u001b[0;34m[\u001b[0m\u001b[0;36m0\u001b[0m\u001b[0;34m]\u001b[0m\u001b[0;34m:\u001b[0m\u001b[0;34m\u001b[0m\u001b[0m\n\u001b[1;32m    254\u001b[0m         \u001b[0msix\u001b[0m\u001b[0;34m.\u001b[0m\u001b[0mreraise\u001b[0m\u001b[0;34m(\u001b[0m\u001b[0;34m*\u001b[0m\u001b[0merror\u001b[0m\u001b[0;34m[\u001b[0m\u001b[0;36m0\u001b[0m\u001b[0;34m]\u001b[0m\u001b[0;34m)\u001b[0m\u001b[0;34m\u001b[0m\u001b[0m\n",
      "\u001b[0;32m/opt/conda/lib/python3.6/threading.py\u001b[0m in \u001b[0;36mwait\u001b[0;34m(self, timeout)\u001b[0m\n\u001b[1;32m    549\u001b[0m             \u001b[0msignaled\u001b[0m \u001b[0;34m=\u001b[0m \u001b[0mself\u001b[0m\u001b[0;34m.\u001b[0m\u001b[0m_flag\u001b[0m\u001b[0;34m\u001b[0m\u001b[0m\n\u001b[1;32m    550\u001b[0m             \u001b[0;32mif\u001b[0m \u001b[0;32mnot\u001b[0m \u001b[0msignaled\u001b[0m\u001b[0;34m:\u001b[0m\u001b[0;34m\u001b[0m\u001b[0m\n\u001b[0;32m--> 551\u001b[0;31m                 \u001b[0msignaled\u001b[0m \u001b[0;34m=\u001b[0m \u001b[0mself\u001b[0m\u001b[0;34m.\u001b[0m\u001b[0m_cond\u001b[0m\u001b[0;34m.\u001b[0m\u001b[0mwait\u001b[0m\u001b[0;34m(\u001b[0m\u001b[0mtimeout\u001b[0m\u001b[0;34m)\u001b[0m\u001b[0;34m\u001b[0m\u001b[0m\n\u001b[0m\u001b[1;32m    552\u001b[0m             \u001b[0;32mreturn\u001b[0m \u001b[0msignaled\u001b[0m\u001b[0;34m\u001b[0m\u001b[0m\n\u001b[1;32m    553\u001b[0m \u001b[0;34m\u001b[0m\u001b[0m\n",
      "\u001b[0;32m/opt/conda/lib/python3.6/threading.py\u001b[0m in \u001b[0;36mwait\u001b[0;34m(self, timeout)\u001b[0m\n\u001b[1;32m    297\u001b[0m             \u001b[0;32melse\u001b[0m\u001b[0;34m:\u001b[0m\u001b[0;34m\u001b[0m\u001b[0m\n\u001b[1;32m    298\u001b[0m                 \u001b[0;32mif\u001b[0m \u001b[0mtimeout\u001b[0m \u001b[0;34m>\u001b[0m \u001b[0;36m0\u001b[0m\u001b[0;34m:\u001b[0m\u001b[0;34m\u001b[0m\u001b[0m\n\u001b[0;32m--> 299\u001b[0;31m                     \u001b[0mgotit\u001b[0m \u001b[0;34m=\u001b[0m \u001b[0mwaiter\u001b[0m\u001b[0;34m.\u001b[0m\u001b[0macquire\u001b[0m\u001b[0;34m(\u001b[0m\u001b[0;32mTrue\u001b[0m\u001b[0;34m,\u001b[0m \u001b[0mtimeout\u001b[0m\u001b[0;34m)\u001b[0m\u001b[0;34m\u001b[0m\u001b[0m\n\u001b[0m\u001b[1;32m    300\u001b[0m                 \u001b[0;32melse\u001b[0m\u001b[0;34m:\u001b[0m\u001b[0;34m\u001b[0m\u001b[0m\n\u001b[1;32m    301\u001b[0m                     \u001b[0mgotit\u001b[0m \u001b[0;34m=\u001b[0m \u001b[0mwaiter\u001b[0m\u001b[0;34m.\u001b[0m\u001b[0macquire\u001b[0m\u001b[0;34m(\u001b[0m\u001b[0;32mFalse\u001b[0m\u001b[0;34m)\u001b[0m\u001b[0;34m\u001b[0m\u001b[0m\n",
      "\u001b[0;31mKeyboardInterrupt\u001b[0m: "
     ]
    }
   ],
   "source": [
    "# Compute speed\n",
    "\n",
    "%time my_data.mean().compute()"
   ]
  },
  {
   "cell_type": "code",
   "execution_count": 17,
   "metadata": {},
   "outputs": [
    {
     "name": "stdout",
     "output_type": "stream",
     "text": [
      "CPU times: user 701 ms, sys: 1.27 s, total: 1.98 s\n",
      "Wall time: 2.4 s\n"
     ]
    },
    {
     "data": {
      "text/plain": [
       "array([[[ 9.90752591, 10.06445579,  9.88981395, ..., 10.05880353,\n",
       "          9.96036056, 10.09790597],\n",
       "        [10.1913001 ,  9.92676068, 10.01722427, ...,  9.93059448,\n",
       "          9.8320846 , 10.0549677 ],\n",
       "        [ 9.96285515,  9.97769982, 10.09459049, ..., 10.00732404,\n",
       "         10.22431458, 10.1654628 ],\n",
       "        ...,\n",
       "        [10.06214599,  9.77444611,  9.91541195, ...,  9.98536641,\n",
       "          9.9460669 , 10.00774887],\n",
       "        [10.02309033,  9.97913896,  9.91090013, ..., 10.10994026,\n",
       "          9.99908138,  9.94868469],\n",
       "        [ 9.8737191 ,  9.89996031, 10.12805808, ..., 10.15413996,\n",
       "          9.95267696,  9.98252853]],\n",
       "\n",
       "       [[10.03976515, 10.17830554,  9.92715904, ...,  9.81387834,\n",
       "         10.06988266, 10.07868017],\n",
       "        [ 9.95105995,  9.91293287, 10.04498203, ..., 10.14565279,\n",
       "          9.91354668,  9.977298  ],\n",
       "        [ 9.84141481,  9.88191308, 10.07421307, ...,  9.92596298,\n",
       "          9.90128391, 10.09494545],\n",
       "        ...,\n",
       "        [ 9.96270756, 10.26202102,  9.94513356, ..., 10.19168628,\n",
       "          9.88490288,  9.99922294],\n",
       "        [ 9.94171367, 10.1052841 ,  9.89486922, ..., 10.09578053,\n",
       "          9.97088092,  9.95105167],\n",
       "        [ 9.92146997,  9.93085865,  9.96832041, ..., 10.29394864,\n",
       "         10.10157374,  9.99576492]],\n",
       "\n",
       "       [[10.01478181,  9.85536846, 10.04518127, ...,  9.92573682,\n",
       "          9.90043008, 10.04330344],\n",
       "        [ 9.98644071,  9.90897503, 10.05050897, ..., 10.238     ,\n",
       "          9.98342188,  9.92277585],\n",
       "        [ 9.99080333,  9.85817186,  9.84698687, ..., 10.03476814,\n",
       "         10.01492035,  9.9317969 ],\n",
       "        ...,\n",
       "        [10.11107417, 10.01098297, 10.02394736, ...,  9.84880356,\n",
       "          9.92239217, 10.15990184],\n",
       "        [10.06680868,  9.83038775, 10.00454323, ..., 10.01055167,\n",
       "          9.85448548, 10.06864197],\n",
       "        [10.14132644,  9.83277311,  9.99908559, ..., 10.05318259,\n",
       "          9.86049681, 10.08057777]],\n",
       "\n",
       "       ...,\n",
       "\n",
       "       [[10.08927276,  9.98132267,  9.95411127, ...,  9.98919532,\n",
       "          9.84907918,  9.98773591],\n",
       "        [10.05419916, 10.06503806,  9.91899451, ...,  9.93075851,\n",
       "         10.09143996,  9.88690601],\n",
       "        [ 9.97048765, 10.06486382,  9.99131762, ...,  9.9533307 ,\n",
       "         10.14805602,  9.9034105 ],\n",
       "        ...,\n",
       "        [ 9.98930229,  9.97991395, 10.08802907, ..., 10.04731141,\n",
       "         10.20775812, 10.10308207],\n",
       "        [ 9.92477264,  9.92285795,  9.92903152, ..., 10.04753355,\n",
       "         10.02793453,  9.97918839],\n",
       "        [10.11393033, 10.19146642, 10.04979245, ..., 10.08967656,\n",
       "         10.03974311, 10.04828037]],\n",
       "\n",
       "       [[ 9.99263783, 10.03606233,  9.98216621, ...,  9.93932308,\n",
       "          9.86623317,  9.87290201],\n",
       "        [10.02562802,  9.95141863, 10.0726108 , ..., 10.08749945,\n",
       "         10.00463108,  9.97663201],\n",
       "        [10.04761163,  9.94541649, 10.12278433, ..., 10.11595149,\n",
       "          9.90825097,  9.92696195],\n",
       "        ...,\n",
       "        [10.05727282,  9.70669538,  9.83330991, ..., 10.12468994,\n",
       "         10.14442494,  9.94774074],\n",
       "        [10.01155685, 10.01232448, 10.12121082, ...,  9.99379653,\n",
       "          9.95095753, 10.24861345],\n",
       "        [ 9.94900657,  9.89629577,  9.87406466, ..., 10.13862644,\n",
       "         10.11381839,  9.90214646]],\n",
       "\n",
       "       [[10.13441446,  9.90500135,  9.94671938, ..., 10.0132557 ,\n",
       "         10.18822265, 10.02835861],\n",
       "        [10.1000187 , 10.06194966,  9.92312957, ...,  9.96976852,\n",
       "          9.96508908, 10.00161607],\n",
       "        [10.12370933,  9.93624952, 10.07041141, ..., 10.35575571,\n",
       "         10.07085846, 10.06124244],\n",
       "        ...,\n",
       "        [ 9.94200429,  9.93258321, 10.11947345, ...,  9.83433729,\n",
       "          9.90845988,  9.95461871],\n",
       "        [10.06239188, 10.00336839, 10.00870012, ..., 10.16491588,\n",
       "          9.91520039,  9.84893919],\n",
       "        [10.00786735,  9.85353955,  9.91873291, ...,  9.80125991,\n",
       "         10.05865998,  9.90175699]]])"
      ]
     },
     "execution_count": 17,
     "metadata": {},
     "output_type": "execute_result"
    }
   ],
   "source": [
    "# Load into memory speed\n",
    "#%time my_data.compute()\n",
    "%time my_data.compute(chunks=chunks)"
   ]
  },
  {
   "cell_type": "code",
   "execution_count": null,
   "metadata": {},
   "outputs": [],
   "source": [
    "dsa = xr.DataArray(np.random.rand(100,1000,1000),\n",
    "                  dims=['time', 'y', 'x']\n",
    "                  ).chunk({'time': 1}).to_dataset(name='foo')"
   ]
  },
  {
   "cell_type": "code",
   "execution_count": null,
   "metadata": {},
   "outputs": [],
   "source": [
    "dsa.nbytes / 1024**2"
   ]
  },
  {
   "cell_type": "code",
   "execution_count": null,
   "metadata": {},
   "outputs": [],
   "source": [
    "%time dsa.to_zarr(gcsmapcache2)"
   ]
  },
  {
   "cell_type": "code",
   "execution_count": 8,
   "metadata": {},
   "outputs": [],
   "source": [
    "#zarr_loc = zarr.create(dask_arr.shape, chunks=chunks, \n",
    "#                       dtype=dask_arr.dtype, path='/home/jovyan/baz', overwrite=True)\n",
    "#zarr_dir = zarr.DirectoryStore('/home/jovyan/foo')\n",
    "zloc = zarr.create(shape=dask_arr.shape, chunks=chunks, \n",
    "                   dtype=dask_arr.dtype, store='/gcs/storage-benchmarks/foo', \n",
    "                   overwrite=True)"
   ]
  },
  {
   "cell_type": "code",
   "execution_count": 10,
   "metadata": {},
   "outputs": [],
   "source": [
    "dask_arr.store(zloc, lock=False)"
   ]
  },
  {
   "cell_type": "code",
   "execution_count": 16,
   "metadata": {},
   "outputs": [],
   "source": [
    "my_fusedata = da.from_array(zloc, chunks=chunks)"
   ]
  },
  {
   "cell_type": "code",
   "execution_count": 23,
   "metadata": {},
   "outputs": [
    {
     "name": "stdout",
     "output_type": "stream",
     "text": [
      "CPU times: user 1.18 s, sys: 83 ms, total: 1.26 s\n",
      "Wall time: 2.51 s\n"
     ]
    },
    {
     "data": {
      "text/plain": [
       "10.000005148122924"
      ]
     },
     "execution_count": 23,
     "metadata": {},
     "output_type": "execute_result"
    }
   ],
   "source": [
    "%time my_fusedata.mean().compute()"
   ]
  },
  {
   "cell_type": "code",
   "execution_count": null,
   "metadata": {},
   "outputs": [],
   "source": [
    "%time"
   ]
  }
 ],
 "metadata": {
  "kernelspec": {
   "display_name": "Python [default]",
   "language": "python",
   "name": "python3"
  },
  "language_info": {
   "codemirror_mode": {
    "name": "ipython",
    "version": 3
   },
   "file_extension": ".py",
   "mimetype": "text/x-python",
   "name": "python",
   "nbconvert_exporter": "python",
   "pygments_lexer": "ipython3",
   "version": "3.6.4"
  }
 },
 "nbformat": 4,
 "nbformat_minor": 2
}
