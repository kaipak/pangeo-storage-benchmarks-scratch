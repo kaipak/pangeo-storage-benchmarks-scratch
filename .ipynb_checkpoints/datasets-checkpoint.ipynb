{
 "cells": [
  {
   "cell_type": "code",
   "execution_count": 1,
   "metadata": {},
   "outputs": [
    {
     "name": "stderr",
     "output_type": "stream",
     "text": [
      "/opt/conda/lib/python3.6/site-packages/h5py/__init__.py:36: FutureWarning: Conversion of the second argument of issubdtype from `float` to `np.floating` is deprecated. In future, it will be treated as `np.float64 == np.dtype(float).type`.\n",
      "  from ._conv import register_converters as _register_converters\n"
     ]
    }
   ],
   "source": [
    "import xarray as xr\n",
    "import dask\n",
    "import dask.array as da\n",
    "import numpy as np\n",
    "import pandas as pd\n",
    "import dask.multiprocessing\n",
    "import blosc\n",
    "from time import sleep\n",
    "\n",
    "import zarr\n",
    "import h5py\n",
    "import gcsfs\n",
    "from dask_kubernetes import KubeCluster\n",
    "from dask.distributed import Client, progress, LocalCluster"
   ]
  },
  {
   "cell_type": "code",
   "execution_count": 2,
   "metadata": {},
   "outputs": [],
   "source": [
    "fs = gcsfs.GCSFileSystem(project='pangeo-181919', token='cache')\n",
    "token = fs.session.credentials\n",
    "fs2 = gcsfs.GCSFileSystem(project='pangeo-181919', token=token)\n",
    "gcsmap_zarr = gcsfs.GCSMap('storage-benchmarks/llc4320_zarr', gcs=fs2)"
   ]
  },
  {
   "cell_type": "code",
   "execution_count": 9,
   "metadata": {},
   "outputs": [
    {
     "name": "stdout",
     "output_type": "stream",
     "text": [
      "CPU times: user 1.72 s, sys: 129 ms, total: 1.85 s\n",
      "Wall time: 9.72 s\n"
     ]
    }
   ],
   "source": [
    "%time llc_zarr = xr.open_zarr(gcsmap_zarr)"
   ]
  },
  {
   "cell_type": "code",
   "execution_count": 8,
   "metadata": {},
   "outputs": [
    {
     "name": "stdout",
     "output_type": "stream",
     "text": [
      "CPU times: user 628 ms, sys: 18 ms, total: 646 ms\n",
      "Wall time: 635 ms\n",
      "CPU times: user 35.4 s, sys: 2.22 s, total: 37.6 s\n",
      "Wall time: 53 s\n"
     ]
    },
    {
     "data": {
      "text/plain": [
       "<xarray.DataArray 'W' ()>\n",
       "array(0.128032, dtype=float32)"
      ]
     },
     "execution_count": 8,
     "metadata": {},
     "output_type": "execute_result"
    }
   ],
   "source": [
    "%time df = llc_zarr.persist()\n",
    "#%time df.mean(dim='time').max().compute()\n",
    "%time df.W.max().compute()"
   ]
  },
  {
   "cell_type": "code",
   "execution_count": 10,
   "metadata": {},
   "outputs": [
    {
     "name": "stdout",
     "output_type": "stream",
     "text": [
      "CPU times: user 4 s, sys: 249 ms, total: 4.25 s\n",
      "Wall time: 8.28 s\n"
     ]
    },
    {
     "data": {
      "text/plain": [
       "<xarray.DataArray 'W' ()>\n",
       "array(-4.73068e-06, dtype=float32)\n",
       "Coordinates:\n",
       "    Zl       float32 0.0"
      ]
     },
     "execution_count": 10,
     "metadata": {},
     "output_type": "execute_result"
    }
   ],
   "source": [
    "df = llc_zarr.W.persist()\n",
    "%time df[:,0].mean().compute()"
   ]
  },
  {
   "cell_type": "code",
   "execution_count": 10,
   "metadata": {},
   "outputs": [
    {
     "data": {
      "application/vnd.jupyter.widget-view+json": {
       "model_id": "54ad9353fab5402c8bb24775498c9a8d",
       "version_major": 2,
       "version_minor": 0
      },
      "text/html": [
       "<p>Failed to display Jupyter Widget of type <code>VBox</code>.</p>\n",
       "<p>\n",
       "  If you're reading this message in the Jupyter Notebook or JupyterLab Notebook, it may mean\n",
       "  that the widgets JavaScript is still loading. If this message persists, it\n",
       "  likely means that the widgets JavaScript library is either not installed or\n",
       "  not enabled. See the <a href=\"https://ipywidgets.readthedocs.io/en/stable/user_install.html\">Jupyter\n",
       "  Widgets Documentation</a> for setup instructions.\n",
       "</p>\n",
       "<p>\n",
       "  If you're reading this message in another frontend (for example, a static\n",
       "  rendering on GitHub or <a href=\"https://nbviewer.jupyter.org/\">NBViewer</a>),\n",
       "  it may mean that your frontend doesn't currently support widgets.\n",
       "</p>\n"
      ],
      "text/plain": [
       "VBox(children=(HTML(value='<h2>KubeCluster</h2>'), HBox(children=(HTML(value='\\n<div>\\n  <style scoped>\\n    .dataframe tbody tr th:only-of-type {\\n        vertical-align: middle;\\n    }\\n\\n    .dataframe tbody tr th {\\n        vertical-align: top;\\n    }\\n\\n    .dataframe thead th {\\n        text-align: right;\\n    }\\n  </style>\\n  <table style=\"text-align: right;\">\\n    <tr><th>Workers</th> <td>0</td></tr>\\n    <tr><th>Cores</th> <td>0</td></tr>\\n    <tr><th>Memory</th> <td>0 B</td></tr>\\n  </table>\\n</div>\\n', layout=Layout(min_width='150px')), Accordion(children=(HBox(children=(IntText(value=0, description='Workers', layout=Layout(width='150px')), Button(description='Scale', layout=Layout(width='150px'), style=ButtonStyle()))), HBox(children=(IntText(value=0, description='Minimum', layout=Layout(width='150px')), IntText(value=0, description='Maximum', layout=Layout(width='150px')), Button(description='Adapt', layout=Layout(width='150px'), style=ButtonStyle())))), layout=Layout(min_width='500px'), selected_index=None, _titles={'0': 'Manual Scaling', '1': 'Adaptive Scaling'}))), HTML(value='<p><b>Dashboard: </b><a href=\"/user/kaipak/proxy/36169/status\" target=\"_blank\">/user/kaipak/proxy/36169/status</a></p>\\n')))"
      ]
     },
     "metadata": {},
     "output_type": "display_data"
    }
   ],
   "source": [
    "n_workers = 40\n",
    "cluster = KubeCluster(n_workers=n_workers)\n",
    "cluster"
   ]
  },
  {
   "cell_type": "code",
   "execution_count": 9,
   "metadata": {},
   "outputs": [],
   "source": [
    "cluster.close()"
   ]
  },
  {
   "cell_type": "code",
   "execution_count": 11,
   "metadata": {},
   "outputs": [
    {
     "data": {
      "text/html": [
       "<table style=\"border: 2px solid white;\">\n",
       "<tr>\n",
       "<td style=\"vertical-align: top; border: 0px solid white\">\n",
       "<h3>Client</h3>\n",
       "<ul>\n",
       "  <li><b>Scheduler: </b>tcp://10.20.69.40:36074\n",
       "  <li><b>Dashboard: </b><a href='/user/kaipak/proxy/36169/status' target='_blank'>/user/kaipak/proxy/36169/status</a>\n",
       "</ul>\n",
       "</td>\n",
       "<td style=\"vertical-align: top; border: 0px solid white\">\n",
       "<h3>Cluster</h3>\n",
       "<ul>\n",
       "  <li><b>Workers: </b>0</li>\n",
       "  <li><b>Cores: </b>0</li>\n",
       "  <li><b>Memory: </b>0 B</li>\n",
       "</ul>\n",
       "</td>\n",
       "</tr>\n",
       "</table>"
      ],
      "text/plain": [
       "<Client: scheduler='tcp://10.20.69.40:36074' processes=0 cores=0>"
      ]
     },
     "execution_count": 11,
     "metadata": {},
     "output_type": "execute_result"
    }
   ],
   "source": [
    "#client = Client(cluster)\n",
    "from dask.distributed import Client\n",
    "client = Client(cluster)\n",
    "client"
   ]
  },
  {
   "cell_type": "code",
   "execution_count": null,
   "metadata": {},
   "outputs": [],
   "source": [
    "while len(client.cluster.scheduler.workers) < n_workers:\n",
    "        print(\"Provisioning worker pods. %s/%s \" % \n",
    "              (len(client.cluster.scheduler.workers), n_workers))\n",
    "        sleep(2)\n",
    "    \n",
    "len(client.cluster.scheduler.workers)"
   ]
  },
  {
   "cell_type": "code",
   "execution_count": null,
   "metadata": {},
   "outputs": [],
   "source": [
    "def randn(shape, frac_nan=None, chunks=None, seed=0):\n",
    "    rng = np.random.RandomState(seed)\n",
    "    if chunks is None:\n",
    "        x = rng.standard_normal(shape)\n",
    "    else:\n",
    "        import dask.array as da\n",
    "        rng = da.random.RandomState(seed)\n",
    "        x = rng.standard_normal(shape, chunks=chunks)\n",
    "\n",
    "    if frac_nan is not None:\n",
    "        inds = rng.choice(range(x.size), int(x.size * frac_nan))\n",
    "        x.flat[inds] = np.nan\n",
    "\n",
    "    return x\n",
    "\n",
    "def randint(low, high=None, size=None, frac_minus=None, seed=0):\n",
    "    rng = np.random.RandomState(seed)\n",
    "    x = rng.randint(low, high, size)\n",
    "    if frac_minus is not None:\n",
    "        inds = rng.choice(range(x.size), int(x.size * frac_minus))\n",
    "        x.flat[inds] = -1\n",
    "\n",
    "    return x\n",
    "\n",
    "def rand_numpy(nz=None, empty=True):\n",
    "    \"\"\"\n",
    "    Generate random 3D Numpy dataset.\n",
    "\n",
    "    :params;\n",
    "\n",
    "    \"\"\"\n",
    "    if nz == None:\n",
    "        nz = getTestConfigValue(\"num_slices\")\n",
    "    if not nz or nz <= 0:\n",
    "        raise NotImplementedError(\"num_slices invalid\")\n",
    "    ny = 1000\n",
    "    nx = 1000\n",
    "    dtype = 'f8'\n",
    "    # Create a dataset\n",
    "    #dset = f.create_dataset(_DATASET_NAME, shape=(nz,ny,nx), dtype=dtype)\n",
    "\n",
    "    data = np.random.rand(nz,nx,ny)\n",
    "    return data\n",
    "\n",
    "def rand_xarray(nt=None):\n",
    "    \"\"\"\n",
    "    Generate synthetic geoscience-like Xarray dataset filled with random \n",
    "    data.\n",
    "    :param ds: dataset that gets generated.\n",
    "    :param nt: number of timesteps for data. Primary control over how large\n",
    "               the dataset is.\n",
    "    :returns: A synthetic xarray dataset that mimics geodata.\n",
    "    \"\"\"\n",
    "\n",
    "    ds = xr.Dataset()\n",
    "    if nt == None:\n",
    "        nt = getTestConfigValue(\"ntime_slices\")\n",
    "    ny = 1000\n",
    "    nx = 1000\n",
    "    block_chunks = {'time': nt / 4,\n",
    "                             'lon': nx / 3,\n",
    "                             'lat': ny / 3}\n",
    "\n",
    "    time_chunks = {'time': int(nt / 36)}\n",
    "\n",
    "    times = pd.date_range('1970-01-01', periods=nt, freq='D')\n",
    "    lons = xr.DataArray(np.linspace(0, 360, nx), dims=('lon', ),\n",
    "                        attrs={'units': 'degrees east',\n",
    "                               'long_name': 'longitude'})\n",
    "    lats = xr.DataArray(np.linspace(-90, 90, ny), dims=('lat', ),\n",
    "                        attrs={'units':'degrees north',\n",
    "                               'long_name': 'latitude'})\n",
    "    ds['foo'] = xr.DataArray(randn((nt, nx, ny), frac_nan=0.2),\n",
    "                             coords={'lon': lons, 'lat': lats,'time': times},\n",
    "                             dims=('time', 'lon', 'lat'),\n",
    "                             name='foo', encoding=None,\n",
    "                             attrs={'units': 'foo units',\n",
    "                                    'description': 'a description'})\n",
    "    ds['bar'] = xr.DataArray(randn((nt, nx, ny), frac_nan=0.2),\n",
    "                             coords={'lon': lons, 'lat': lats, 'time': times},\n",
    "                             dims=('time', 'lon', 'lat'),\n",
    "                             name='bar', encoding=None,\n",
    "                             attrs={'units': 'bar units',\n",
    "                                    'description': 'a description'})\n",
    "    ds['baz'] = xr.DataArray(randn((nx, ny), frac_nan=0.2).astype(np.float32),\n",
    "                             coords={'lon': lons, 'lat': lats},\n",
    "                             dims=('lon', 'lat'),\n",
    "                             name='baz', encoding=None,\n",
    "                             attrs={'units': 'baz units',\n",
    "                                    'description': 'a description'})\n",
    "\n",
    "    ds.attrs = {'history': 'created for xarray benchmarking'}\n",
    "\n",
    "    oinds = {'time': randint(0, nt, 120),\n",
    "             'lon': randint(0, nx, 20),\n",
    "             'lat': randint(0, ny, 10)}\n",
    "    vinds = {'time': xr.DataArray(randint(0, nt, 120), dims='x'),\n",
    "             'lon': xr.DataArray(randint(0, nx, 120), dims='x'),\n",
    "             'lat': slice(3, 20)}\n",
    "\n",
    "    return ds\n",
    "\n"
   ]
  },
  {
   "cell_type": "code",
   "execution_count": null,
   "metadata": {},
   "outputs": [],
   "source": [
    "np_ds = rand_numpy(32)\n",
    "np_ds.nbytes/ 1024**2"
   ]
  },
  {
   "cell_type": "code",
   "execution_count": null,
   "metadata": {},
   "outputs": [],
   "source": [
    "xr_ds = rand_xarray(16)\n",
    "print(xr_ds.nbytes/ 1024**2)"
   ]
  },
  {
   "cell_type": "code",
   "execution_count": null,
   "metadata": {},
   "outputs": [],
   "source": [
    "fs2 = gcsfs.GCSFileSystem(project='pangeo-181919', token=None)\n",
    "gcsmap_zarr = gcsfs.GCSMap('storage-benchmarks/test_zarr', gcs=fs2)"
   ]
  },
  {
   "cell_type": "code",
   "execution_count": null,
   "metadata": {},
   "outputs": [],
   "source": [
    "xr_ds.to_zarr(store=gcsmap_zarr)"
   ]
  },
  {
   "cell_type": "code",
   "execution_count": null,
   "metadata": {},
   "outputs": [],
   "source": [
    "%time xr_ds.mean()"
   ]
  },
  {
   "cell_type": "code",
   "execution_count": null,
   "metadata": {},
   "outputs": [],
   "source": [
    "chunks = (1, 1000, 1000)\n",
    "size = (1350, 1000, 1000)\n",
    "dask_arr = da.random.normal(10, 0.1, size=size, chunks=chunks)\n",
    "dask_arr.nbytes/ 1024**3"
   ]
  },
  {
   "cell_type": "code",
   "execution_count": null,
   "metadata": {},
   "outputs": [],
   "source": [
    "%time dask_arr.mean().compute()"
   ]
  },
  {
   "cell_type": "code",
   "execution_count": null,
   "metadata": {},
   "outputs": [],
   "source": [
    "! gsutil -q -m rm -rf gs://storage-benchmarks/gcsfs-test-nb-zarr"
   ]
  },
  {
   "cell_type": "code",
   "execution_count": null,
   "metadata": {},
   "outputs": [],
   "source": [
    "fs = gcsfs.GCSFileSystem(project='pangeo-181919', token='cache')\n",
    "gcsmapcache =  gcsfs.GCSMap('storage-benchmarks/gcsfs-test-nb')\n",
    "token = fs.session.credentials"
   ]
  },
  {
   "cell_type": "code",
   "execution_count": null,
   "metadata": {},
   "outputs": [],
   "source": [
    "token = fs.session.credentials"
   ]
  },
  {
   "cell_type": "code",
   "execution_count": null,
   "metadata": {},
   "outputs": [],
   "source": [
    "fs2 = gcsfs.GCSFileSystem(project='pangeo-181919', token=token)"
   ]
  },
  {
   "cell_type": "code",
   "execution_count": null,
   "metadata": {},
   "outputs": [],
   "source": [
    "gcsmap_zarr = gcsfs.GCSMap('storage-benchmarks/gcsfs-test-nb-zarr', gcs=fs2)"
   ]
  },
  {
   "cell_type": "code",
   "execution_count": null,
   "metadata": {},
   "outputs": [],
   "source": [
    "zarr_ds = zarr.create(dask_arr.shape, chunks=chunks, \n",
    "                       dtype=dask_arr.dtype, store=gcsmap_zarr, overwrite=True)"
   ]
  },
  {
   "cell_type": "code",
   "execution_count": null,
   "metadata": {},
   "outputs": [],
   "source": [
    "def test_store(zarr_arr):\n",
    "    for get in [dask.get, dask.threaded.get, dask.multiprocessing.get]:\n",
    "        with dask.set_options(get=get):\n",
    "            %time dask_arr.store(zarr_arr, lock=False)"
   ]
  },
  {
   "cell_type": "code",
   "execution_count": null,
   "metadata": {},
   "outputs": [],
   "source": [
    "%time dask_arr.store(zarr_ds, lock=False)"
   ]
  },
  {
   "cell_type": "code",
   "execution_count": null,
   "metadata": {},
   "outputs": [],
   "source": [
    "my_data = da.from_array(zarr_ds, chunks=chunks)"
   ]
  },
  {
   "cell_type": "code",
   "execution_count": null,
   "metadata": {},
   "outputs": [],
   "source": [
    "# Compute speed\n",
    "\n",
    "%time my_data.mean().compute()"
   ]
  },
  {
   "cell_type": "code",
   "execution_count": null,
   "metadata": {},
   "outputs": [],
   "source": [
    "# Load into memory speed\n",
    "#%time my_data.compute()\n",
    "%time my_data.compute(chunks=chunks)"
   ]
  },
  {
   "cell_type": "code",
   "execution_count": null,
   "metadata": {},
   "outputs": [],
   "source": [
    "dsa = xr.DataArray(np.random.rand(100,1000,1000),\n",
    "                  dims=['time', 'y', 'x']\n",
    "                  ).chunk({'time': 1}).to_dataset(name='foo')"
   ]
  },
  {
   "cell_type": "code",
   "execution_count": null,
   "metadata": {},
   "outputs": [],
   "source": [
    "dsa.nbytes / 1024**2"
   ]
  },
  {
   "cell_type": "code",
   "execution_count": null,
   "metadata": {},
   "outputs": [],
   "source": [
    "%time dsa.to_zarr(gcsmapcache2)"
   ]
  },
  {
   "cell_type": "code",
   "execution_count": null,
   "metadata": {},
   "outputs": [],
   "source": [
    "#zarr_loc = zarr.create(dask_arr.shape, chunks=chunks, \n",
    "#                       dtype=dask_arr.dtype, path='/home/jovyan/baz', overwrite=True)\n",
    "#zarr_dir = zarr.DirectoryStore('/home/jovyan/foo')\n",
    "zloc = zarr.create(shape=dask_arr.shape, chunks=chunks, \n",
    "                   dtype=dask_arr.dtype, store='/gcs/storage-benchmarks/foo', \n",
    "                   overwrite=True)"
   ]
  },
  {
   "cell_type": "code",
   "execution_count": null,
   "metadata": {},
   "outputs": [],
   "source": [
    "dask_arr.store(zloc, lock=False)"
   ]
  },
  {
   "cell_type": "code",
   "execution_count": null,
   "metadata": {},
   "outputs": [],
   "source": [
    "my_fusedata = da.from_array(zloc, chunks=chunks)"
   ]
  },
  {
   "cell_type": "code",
   "execution_count": null,
   "metadata": {},
   "outputs": [],
   "source": [
    "%time my_fusedata.mean().compute()"
   ]
  },
  {
   "cell_type": "code",
   "execution_count": null,
   "metadata": {},
   "outputs": [],
   "source": [
    "# Read FUSE Mount\n",
    "zfuse = xr.open_zarr('/gcs/storage-benchmarks/llc4320_zarr_fuse')"
   ]
  },
  {
   "cell_type": "code",
   "execution_count": null,
   "metadata": {},
   "outputs": [],
   "source": [
    "zfuse"
   ]
  },
  {
   "cell_type": "code",
   "execution_count": null,
   "metadata": {},
   "outputs": [],
   "source": [
    "zfuse.W.mean().compute()"
   ]
  },
  {
   "cell_type": "code",
   "execution_count": 5,
   "metadata": {},
   "outputs": [],
   "source": [
    "# Opening NetCDF Files on FUSE\n",
    "\n",
    "llc_ds = xr.open_mfdataset('/gcs/storage-benchmarks/llc4320_netcdf/*.nc',\n",
    "                                        decode_cf=False, autoclose=True,\n",
    "                                        chunks={'k': 1, 'k_l': 10})"
   ]
  },
  {
   "cell_type": "code",
   "execution_count": null,
   "metadata": {},
   "outputs": [],
   "source": [
    "ds = llc_ds.persist()\n",
    "ds.Theta.max().compute()"
   ]
  },
  {
   "cell_type": "code",
   "execution_count": null,
   "metadata": {},
   "outputs": [],
   "source": []
  }
 ],
 "metadata": {
  "kernelspec": {
   "display_name": "Python [conda root]",
   "language": "python",
   "name": "conda-root-py"
  },
  "language_info": {
   "codemirror_mode": {
    "name": "ipython",
    "version": 3
   },
   "file_extension": ".py",
   "mimetype": "text/x-python",
   "name": "python",
   "nbconvert_exporter": "python",
   "pygments_lexer": "ipython3",
   "version": "3.6.4"
  }
 },
 "nbformat": 4,
 "nbformat_minor": 2
}
