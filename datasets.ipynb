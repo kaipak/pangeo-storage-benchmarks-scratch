{
 "cells": [
  {
   "cell_type": "code",
   "execution_count": 5,
   "metadata": {},
   "outputs": [],
   "source": [
    "import xarray as xr\n",
    "import dask\n",
    "import dask.array as da\n",
    "import numpy as np\n",
    "import pandas as pd\n",
    "import dask.multiprocessing\n",
    "import blosc\n",
    "\n",
    "import zarr\n",
    "import h5py\n",
    "import gcsfs\n",
    "from dask_kubernetes import KubeCluster\n",
    "from dask.distributed import Client, progress, LocalCluster"
   ]
  },
  {
   "cell_type": "code",
   "execution_count": 36,
   "metadata": {},
   "outputs": [
    {
     "data": {
      "application/vnd.jupyter.widget-view+json": {
       "model_id": "b669672dcbc74fb7978c31759f335ab1",
       "version_major": 2,
       "version_minor": 0
      },
      "text/html": [
       "<p>Failed to display Jupyter Widget of type <code>VBox</code>.</p>\n",
       "<p>\n",
       "  If you're reading this message in the Jupyter Notebook or JupyterLab Notebook, it may mean\n",
       "  that the widgets JavaScript is still loading. If this message persists, it\n",
       "  likely means that the widgets JavaScript library is either not installed or\n",
       "  not enabled. See the <a href=\"https://ipywidgets.readthedocs.io/en/stable/user_install.html\">Jupyter\n",
       "  Widgets Documentation</a> for setup instructions.\n",
       "</p>\n",
       "<p>\n",
       "  If you're reading this message in another frontend (for example, a static\n",
       "  rendering on GitHub or <a href=\"https://nbviewer.jupyter.org/\">NBViewer</a>),\n",
       "  it may mean that your frontend doesn't currently support widgets.\n",
       "</p>\n"
      ],
      "text/plain": [
       "VBox(children=(HTML(value='<h2>KubeCluster</h2>'), HBox(children=(HTML(value='\\n<div>\\n  <style scoped>\\n    .dataframe tbody tr th:only-of-type {\\n        vertical-align: middle;\\n    }\\n\\n    .dataframe tbody tr th {\\n        vertical-align: top;\\n    }\\n\\n    .dataframe thead th {\\n        text-align: right;\\n    }\\n  </style>\\n  <table style=\"text-align: right;\">\\n    <tr><th>Workers</th> <td>0</td></tr>\\n    <tr><th>Cores</th> <td>0</td></tr>\\n    <tr><th>Memory</th> <td>0 B</td></tr>\\n  </table>\\n</div>\\n', layout=Layout(min_width='150px')), Accordion(children=(HBox(children=(IntText(value=0, description='Workers', layout=Layout(width='150px')), Button(description='Scale', layout=Layout(width='150px'), style=ButtonStyle()))), HBox(children=(IntText(value=0, description='Minimum', layout=Layout(width='150px')), IntText(value=0, description='Maximum', layout=Layout(width='150px')), Button(description='Adapt', layout=Layout(width='150px'), style=ButtonStyle())))), layout=Layout(min_width='500px'), selected_index=None, _titles={'0': 'Manual Scaling', '1': 'Adaptive Scaling'}))), HTML(value='<p><b>Dashboard: </b><a href=\"/user/kaipak/proxy/36304/status\" target=\"_blank\">/user/kaipak/proxy/36304/status</a></p>\\n')))"
      ]
     },
     "metadata": {},
     "output_type": "display_data"
    }
   ],
   "source": [
    "cluster = KubeCluster(n_workers=2)\n",
    "# cluster.adapt()\n",
    "cluster\n"
   ]
  },
  {
   "cell_type": "code",
   "execution_count": 31,
   "metadata": {},
   "outputs": [],
   "source": [
    "cluster.close()"
   ]
  },
  {
   "cell_type": "code",
   "execution_count": 9,
   "metadata": {},
   "outputs": [
    {
     "name": "stdout",
     "output_type": "stream",
     "text": [
      "scale\n"
     ]
    }
   ],
   "source": [
    "cluster.scale_up(40)\n",
    "print('scale')"
   ]
  },
  {
   "cell_type": "code",
   "execution_count": 37,
   "metadata": {},
   "outputs": [
    {
     "data": {
      "text/html": [
       "<table style=\"border: 2px solid white;\">\n",
       "<tr>\n",
       "<td style=\"vertical-align: top; border: 0px solid white\">\n",
       "<h3>Client</h3>\n",
       "<ul>\n",
       "  <li><b>Scheduler: </b>tcp://10.20.207.9:35778\n",
       "  <li><b>Dashboard: </b><a href='/user/kaipak/proxy/36304/status' target='_blank'>/user/kaipak/proxy/36304/status</a>\n",
       "</ul>\n",
       "</td>\n",
       "<td style=\"vertical-align: top; border: 0px solid white\">\n",
       "<h3>Cluster</h3>\n",
       "<ul>\n",
       "  <li><b>Workers: </b>0</li>\n",
       "  <li><b>Cores: </b>0</li>\n",
       "  <li><b>Memory: </b>0 B</li>\n",
       "</ul>\n",
       "</td>\n",
       "</tr>\n",
       "</table>"
      ],
      "text/plain": [
       "<Client: scheduler='tcp://10.20.207.9:35778' processes=0 cores=0>"
      ]
     },
     "execution_count": 37,
     "metadata": {},
     "output_type": "execute_result"
    }
   ],
   "source": [
    "#client = Client(cluster)\n",
    "from dask.distributed import Client\n",
    "client = Client(cluster)\n",
    "client"
   ]
  },
  {
   "cell_type": "code",
   "execution_count": 53,
   "metadata": {},
   "outputs": [],
   "source": [
    "def randn(shape, frac_nan=None, chunks=None, seed=0):\n",
    "    rng = np.random.RandomState(seed)\n",
    "    if chunks is None:\n",
    "        x = rng.standard_normal(shape)\n",
    "    else:\n",
    "        import dask.array as da\n",
    "        rng = da.random.RandomState(seed)\n",
    "        x = rng.standard_normal(shape, chunks=chunks)\n",
    "\n",
    "    if frac_nan is not None:\n",
    "        inds = rng.choice(range(x.size), int(x.size * frac_nan))\n",
    "        x.flat[inds] = np.nan\n",
    "\n",
    "    return x\n",
    "\n",
    "def randint(low, high=None, size=None, frac_minus=None, seed=0):\n",
    "    rng = np.random.RandomState(seed)\n",
    "    x = rng.randint(low, high, size)\n",
    "    if frac_minus is not None:\n",
    "        inds = rng.choice(range(x.size), int(x.size * frac_minus))\n",
    "        x.flat[inds] = -1\n",
    "\n",
    "    return x\n",
    "\n",
    "def rand_numpy(nz=None, empty=True):\n",
    "    \"\"\"\n",
    "    Generate random 3D Numpy dataset.\n",
    "\n",
    "    :params;\n",
    "\n",
    "    \"\"\"\n",
    "    if nz == None:\n",
    "        nz = getTestConfigValue(\"num_slices\")\n",
    "    if not nz or nz <= 0:\n",
    "        raise NotImplementedError(\"num_slices invalid\")\n",
    "    ny = 1000\n",
    "    nx = 1000\n",
    "    dtype = 'f8'\n",
    "    # Create a dataset\n",
    "    #dset = f.create_dataset(_DATASET_NAME, shape=(nz,ny,nx), dtype=dtype)\n",
    "\n",
    "    data = np.random.rand(nz,nx,ny)\n",
    "    return data\n",
    "\n",
    "def rand_xarray(nt=None):\n",
    "    \"\"\"\n",
    "    Generate synthetic geoscience-like Xarray dataset filled with random \n",
    "    data.\n",
    "    :param ds: dataset that gets generated.\n",
    "    :param nt: number of timesteps for data. Primary control over how large\n",
    "               the dataset is.\n",
    "    :returns: A synthetic xarray dataset that mimics geodata.\n",
    "    \"\"\"\n",
    "\n",
    "    ds = xr.Dataset()\n",
    "    if nt == None:\n",
    "        nt = getTestConfigValue(\"ntime_slices\")\n",
    "    ny = 1000\n",
    "    nx = 1000\n",
    "    block_chunks = {'time': nt / 4,\n",
    "                             'lon': nx / 3,\n",
    "                             'lat': ny / 3}\n",
    "\n",
    "    time_chunks = {'time': int(nt / 36)}\n",
    "\n",
    "    times = pd.date_range('1970-01-01', periods=nt, freq='D')\n",
    "    lons = xr.DataArray(np.linspace(0, 360, nx), dims=('lon', ),\n",
    "                        attrs={'units': 'degrees east',\n",
    "                               'long_name': 'longitude'})\n",
    "    lats = xr.DataArray(np.linspace(-90, 90, ny), dims=('lat', ),\n",
    "                        attrs={'units':'degrees north',\n",
    "                               'long_name': 'latitude'})\n",
    "    ds['foo'] = xr.DataArray(randn((nt, nx, ny), frac_nan=0.2),\n",
    "                             coords={'lon': lons, 'lat': lats,'time': times},\n",
    "                             dims=('time', 'lon', 'lat'),\n",
    "                             name='foo', encoding=None,\n",
    "                             attrs={'units': 'foo units',\n",
    "                                    'description': 'a description'})\n",
    "    ds['bar'] = xr.DataArray(randn((nt, nx, ny), frac_nan=0.2),\n",
    "                             coords={'lon': lons, 'lat': lats, 'time': times},\n",
    "                             dims=('time', 'lon', 'lat'),\n",
    "                             name='bar', encoding=None,\n",
    "                             attrs={'units': 'bar units',\n",
    "                                    'description': 'a description'})\n",
    "    ds['baz'] = xr.DataArray(randn((nx, ny), frac_nan=0.2).astype(np.float32),\n",
    "                             coords={'lon': lons, 'lat': lats},\n",
    "                             dims=('lon', 'lat'),\n",
    "                             name='baz', encoding=None,\n",
    "                             attrs={'units': 'baz units',\n",
    "                                    'description': 'a description'})\n",
    "\n",
    "    ds.attrs = {'history': 'created for xarray benchmarking'}\n",
    "\n",
    "    oinds = {'time': randint(0, nt, 120),\n",
    "             'lon': randint(0, nx, 20),\n",
    "             'lat': randint(0, ny, 10)}\n",
    "    vinds = {'time': xr.DataArray(randint(0, nt, 120), dims='x'),\n",
    "             'lon': xr.DataArray(randint(0, nx, 120), dims='x'),\n",
    "             'lat': slice(3, 20)}\n",
    "\n",
    "    return ds\n",
    "\n"
   ]
  },
  {
   "cell_type": "code",
   "execution_count": 54,
   "metadata": {},
   "outputs": [
    {
     "data": {
      "text/plain": [
       "953.67431640625"
      ]
     },
     "execution_count": 54,
     "metadata": {},
     "output_type": "execute_result"
    }
   ],
   "source": [
    "np_ds = rand_numpy(125)\n",
    "np_ds.nbytes/ 1024**2"
   ]
  },
  {
   "cell_type": "code",
   "execution_count": 59,
   "metadata": {},
   "outputs": [
    {
     "data": {
      "text/plain": [
       "232.71190643310547"
      ]
     },
     "execution_count": 59,
     "metadata": {},
     "output_type": "execute_result"
    }
   ],
   "source": [
    "xr_ds = rand_xarray(15)\n",
    "xr_ds.nbytes/ 1024**2"
   ]
  },
  {
   "cell_type": "code",
   "execution_count": 48,
   "metadata": {},
   "outputs": [
    {
     "data": {
      "text/plain": [
       "2.60770320892334"
      ]
     },
     "execution_count": 48,
     "metadata": {},
     "output_type": "execute_result"
    }
   ],
   "source": [
    "chunks = (10, 1000, 1000)\n",
    "size = (350, 1000, 1000)\n",
    "dask_arr = da.random.normal(10, 0.1, size=size, chunks=chunks)\n",
    "dask_arr.nbytes/ 1024**3"
   ]
  },
  {
   "cell_type": "code",
   "execution_count": 51,
   "metadata": {},
   "outputs": [
    {
     "name": "stdout",
     "output_type": "stream",
     "text": [
      "CPU times: user 1.01 s, sys: 148 ms, total: 1.16 s\n",
      "Wall time: 2.33 s\n"
     ]
    },
    {
     "data": {
      "text/plain": [
       "10.000010173400273"
      ]
     },
     "execution_count": 51,
     "metadata": {},
     "output_type": "execute_result"
    }
   ],
   "source": [
    "%time dask_arr.mean().compute()"
   ]
  },
  {
   "cell_type": "code",
   "execution_count": 21,
   "metadata": {},
   "outputs": [],
   "source": [
    "! gsutil -q -m rm -rf gs://storage-benchmarks/gcsfs-test-nb-zarr"
   ]
  },
  {
   "cell_type": "code",
   "execution_count": 22,
   "metadata": {},
   "outputs": [],
   "source": [
    "fs = gcsfs.GCSFileSystem(project='pangeo-181919', token='cache')\n",
    "gcsmapcache =  gcsfs.GCSMap('storage-benchmarks/gcsfs-test-nb')\n",
    "token = fs.session.credentials"
   ]
  },
  {
   "cell_type": "code",
   "execution_count": 23,
   "metadata": {},
   "outputs": [],
   "source": [
    "token = fs.session.credentials"
   ]
  },
  {
   "cell_type": "code",
   "execution_count": 24,
   "metadata": {},
   "outputs": [],
   "source": [
    "fs2 = gcsfs.GCSFileSystem(project='pangeo-181919', token=token)"
   ]
  },
  {
   "cell_type": "code",
   "execution_count": 25,
   "metadata": {},
   "outputs": [],
   "source": [
    "gcsmap_zarr = gcsfs.GCSMap('storage-benchmarks/gcsfs-test-nb-zarr', gcs=fs2)"
   ]
  },
  {
   "cell_type": "code",
   "execution_count": 26,
   "metadata": {},
   "outputs": [],
   "source": [
    "zarr_ds = zarr.create(dask_arr.shape, chunks=chunks, \n",
    "                       dtype=dask_arr.dtype, store=gcsmap_zarr, overwrite=True)"
   ]
  },
  {
   "cell_type": "code",
   "execution_count": null,
   "metadata": {},
   "outputs": [],
   "source": [
    "def test_store(zarr_arr):\n",
    "    for get in [dask.get, dask.threaded.get, dask.multiprocessing.get]:\n",
    "        with dask.set_options(get=get):\n",
    "            %time dask_arr.store(zarr_arr, lock=False)"
   ]
  },
  {
   "cell_type": "code",
   "execution_count": 40,
   "metadata": {},
   "outputs": [
    {
     "name": "stdout",
     "output_type": "stream",
     "text": [
      "CPU times: user 26.6 s, sys: 3.62 s, total: 30.2 s\n",
      "Wall time: 1min 14s\n"
     ]
    }
   ],
   "source": [
    "%time dask_arr.store(zarr_ds, lock=False)"
   ]
  },
  {
   "cell_type": "code",
   "execution_count": 29,
   "metadata": {},
   "outputs": [],
   "source": [
    "my_data = da.from_array(zarr_ds, chunks=chunks)"
   ]
  },
  {
   "cell_type": "code",
   "execution_count": 50,
   "metadata": {},
   "outputs": [
    {
     "name": "stdout",
     "output_type": "stream",
     "text": [
      "CPU times: user 7.05 s, sys: 1.02 s, total: 8.07 s\n",
      "Wall time: 12.1 s\n"
     ]
    },
    {
     "data": {
      "text/plain": [
       "10.000003458650236"
      ]
     },
     "execution_count": 50,
     "metadata": {},
     "output_type": "execute_result"
    }
   ],
   "source": [
    "# Compute speed\n",
    "\n",
    "%time my_data.mean().compute()"
   ]
  },
  {
   "cell_type": "code",
   "execution_count": 17,
   "metadata": {},
   "outputs": [
    {
     "name": "stdout",
     "output_type": "stream",
     "text": [
      "CPU times: user 701 ms, sys: 1.27 s, total: 1.98 s\n",
      "Wall time: 2.4 s\n"
     ]
    },
    {
     "data": {
      "text/plain": [
       "array([[[ 9.90752591, 10.06445579,  9.88981395, ..., 10.05880353,\n",
       "          9.96036056, 10.09790597],\n",
       "        [10.1913001 ,  9.92676068, 10.01722427, ...,  9.93059448,\n",
       "          9.8320846 , 10.0549677 ],\n",
       "        [ 9.96285515,  9.97769982, 10.09459049, ..., 10.00732404,\n",
       "         10.22431458, 10.1654628 ],\n",
       "        ...,\n",
       "        [10.06214599,  9.77444611,  9.91541195, ...,  9.98536641,\n",
       "          9.9460669 , 10.00774887],\n",
       "        [10.02309033,  9.97913896,  9.91090013, ..., 10.10994026,\n",
       "          9.99908138,  9.94868469],\n",
       "        [ 9.8737191 ,  9.89996031, 10.12805808, ..., 10.15413996,\n",
       "          9.95267696,  9.98252853]],\n",
       "\n",
       "       [[10.03976515, 10.17830554,  9.92715904, ...,  9.81387834,\n",
       "         10.06988266, 10.07868017],\n",
       "        [ 9.95105995,  9.91293287, 10.04498203, ..., 10.14565279,\n",
       "          9.91354668,  9.977298  ],\n",
       "        [ 9.84141481,  9.88191308, 10.07421307, ...,  9.92596298,\n",
       "          9.90128391, 10.09494545],\n",
       "        ...,\n",
       "        [ 9.96270756, 10.26202102,  9.94513356, ..., 10.19168628,\n",
       "          9.88490288,  9.99922294],\n",
       "        [ 9.94171367, 10.1052841 ,  9.89486922, ..., 10.09578053,\n",
       "          9.97088092,  9.95105167],\n",
       "        [ 9.92146997,  9.93085865,  9.96832041, ..., 10.29394864,\n",
       "         10.10157374,  9.99576492]],\n",
       "\n",
       "       [[10.01478181,  9.85536846, 10.04518127, ...,  9.92573682,\n",
       "          9.90043008, 10.04330344],\n",
       "        [ 9.98644071,  9.90897503, 10.05050897, ..., 10.238     ,\n",
       "          9.98342188,  9.92277585],\n",
       "        [ 9.99080333,  9.85817186,  9.84698687, ..., 10.03476814,\n",
       "         10.01492035,  9.9317969 ],\n",
       "        ...,\n",
       "        [10.11107417, 10.01098297, 10.02394736, ...,  9.84880356,\n",
       "          9.92239217, 10.15990184],\n",
       "        [10.06680868,  9.83038775, 10.00454323, ..., 10.01055167,\n",
       "          9.85448548, 10.06864197],\n",
       "        [10.14132644,  9.83277311,  9.99908559, ..., 10.05318259,\n",
       "          9.86049681, 10.08057777]],\n",
       "\n",
       "       ...,\n",
       "\n",
       "       [[10.08927276,  9.98132267,  9.95411127, ...,  9.98919532,\n",
       "          9.84907918,  9.98773591],\n",
       "        [10.05419916, 10.06503806,  9.91899451, ...,  9.93075851,\n",
       "         10.09143996,  9.88690601],\n",
       "        [ 9.97048765, 10.06486382,  9.99131762, ...,  9.9533307 ,\n",
       "         10.14805602,  9.9034105 ],\n",
       "        ...,\n",
       "        [ 9.98930229,  9.97991395, 10.08802907, ..., 10.04731141,\n",
       "         10.20775812, 10.10308207],\n",
       "        [ 9.92477264,  9.92285795,  9.92903152, ..., 10.04753355,\n",
       "         10.02793453,  9.97918839],\n",
       "        [10.11393033, 10.19146642, 10.04979245, ..., 10.08967656,\n",
       "         10.03974311, 10.04828037]],\n",
       "\n",
       "       [[ 9.99263783, 10.03606233,  9.98216621, ...,  9.93932308,\n",
       "          9.86623317,  9.87290201],\n",
       "        [10.02562802,  9.95141863, 10.0726108 , ..., 10.08749945,\n",
       "         10.00463108,  9.97663201],\n",
       "        [10.04761163,  9.94541649, 10.12278433, ..., 10.11595149,\n",
       "          9.90825097,  9.92696195],\n",
       "        ...,\n",
       "        [10.05727282,  9.70669538,  9.83330991, ..., 10.12468994,\n",
       "         10.14442494,  9.94774074],\n",
       "        [10.01155685, 10.01232448, 10.12121082, ...,  9.99379653,\n",
       "          9.95095753, 10.24861345],\n",
       "        [ 9.94900657,  9.89629577,  9.87406466, ..., 10.13862644,\n",
       "         10.11381839,  9.90214646]],\n",
       "\n",
       "       [[10.13441446,  9.90500135,  9.94671938, ..., 10.0132557 ,\n",
       "         10.18822265, 10.02835861],\n",
       "        [10.1000187 , 10.06194966,  9.92312957, ...,  9.96976852,\n",
       "          9.96508908, 10.00161607],\n",
       "        [10.12370933,  9.93624952, 10.07041141, ..., 10.35575571,\n",
       "         10.07085846, 10.06124244],\n",
       "        ...,\n",
       "        [ 9.94200429,  9.93258321, 10.11947345, ...,  9.83433729,\n",
       "          9.90845988,  9.95461871],\n",
       "        [10.06239188, 10.00336839, 10.00870012, ..., 10.16491588,\n",
       "          9.91520039,  9.84893919],\n",
       "        [10.00786735,  9.85353955,  9.91873291, ...,  9.80125991,\n",
       "         10.05865998,  9.90175699]]])"
      ]
     },
     "execution_count": 17,
     "metadata": {},
     "output_type": "execute_result"
    }
   ],
   "source": [
    "# Load into memory speed\n",
    "#%time my_data.compute()\n",
    "%time my_data.compute(chunks=chunks)"
   ]
  },
  {
   "cell_type": "code",
   "execution_count": null,
   "metadata": {},
   "outputs": [],
   "source": [
    "dsa = xr.DataArray(np.random.rand(100,1000,1000),\n",
    "                  dims=['time', 'y', 'x']\n",
    "                  ).chunk({'time': 1}).to_dataset(name='foo')"
   ]
  },
  {
   "cell_type": "code",
   "execution_count": null,
   "metadata": {},
   "outputs": [],
   "source": [
    "dsa.nbytes / 1024**2"
   ]
  },
  {
   "cell_type": "code",
   "execution_count": null,
   "metadata": {},
   "outputs": [],
   "source": [
    "%time dsa.to_zarr(gcsmapcache2)"
   ]
  },
  {
   "cell_type": "code",
   "execution_count": 8,
   "metadata": {},
   "outputs": [],
   "source": [
    "#zarr_loc = zarr.create(dask_arr.shape, chunks=chunks, \n",
    "#                       dtype=dask_arr.dtype, path='/home/jovyan/baz', overwrite=True)\n",
    "#zarr_dir = zarr.DirectoryStore('/home/jovyan/foo')\n",
    "zloc = zarr.create(shape=dask_arr.shape, chunks=chunks, \n",
    "                   dtype=dask_arr.dtype, store='/gcs/storage-benchmarks/foo', \n",
    "                   overwrite=True)"
   ]
  },
  {
   "cell_type": "code",
   "execution_count": 10,
   "metadata": {},
   "outputs": [],
   "source": [
    "dask_arr.store(zloc, lock=False)"
   ]
  },
  {
   "cell_type": "code",
   "execution_count": 16,
   "metadata": {},
   "outputs": [],
   "source": [
    "my_fusedata = da.from_array(zloc, chunks=chunks)"
   ]
  },
  {
   "cell_type": "code",
   "execution_count": 23,
   "metadata": {},
   "outputs": [
    {
     "name": "stdout",
     "output_type": "stream",
     "text": [
      "CPU times: user 1.18 s, sys: 83 ms, total: 1.26 s\n",
      "Wall time: 2.51 s\n"
     ]
    },
    {
     "data": {
      "text/plain": [
       "10.000005148122924"
      ]
     },
     "execution_count": 23,
     "metadata": {},
     "output_type": "execute_result"
    }
   ],
   "source": [
    "%time my_fusedata.mean().compute()"
   ]
  },
  {
   "cell_type": "code",
   "execution_count": null,
   "metadata": {},
   "outputs": [],
   "source": [
    "%time"
   ]
  }
 ],
 "metadata": {
  "kernelspec": {
   "display_name": "Python [default]",
   "language": "python",
   "name": "python3"
  },
  "language_info": {
   "codemirror_mode": {
    "name": "ipython",
    "version": 3
   },
   "file_extension": ".py",
   "mimetype": "text/x-python",
   "name": "python",
   "nbconvert_exporter": "python",
   "pygments_lexer": "ipython3",
   "version": "3.6.4"
  }
 },
 "nbformat": 4,
 "nbformat_minor": 2
}
