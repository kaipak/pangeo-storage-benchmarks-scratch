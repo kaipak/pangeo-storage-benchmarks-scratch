{
 "cells": [
  {
   "cell_type": "code",
   "execution_count": 1,
   "metadata": {},
   "outputs": [
    {
     "name": "stderr",
     "output_type": "stream",
     "text": [
      "/home/jovyan/.local/lib/python3.6/site-packages/h5py/__init__.py:36: FutureWarning: Conversion of the second argument of issubdtype from `float` to `np.floating` is deprecated. In future, it will be treated as `np.float64 == np.dtype(float).type`.\n",
      "  from ._conv import register_converters as _register_converters\n"
     ]
    }
   ],
   "source": [
    "import xarray as xr\n",
    "import dask\n",
    "import dask.array as da\n",
    "import numpy as np\n",
    "import pandas as pd\n",
    "import dask.multiprocessing\n",
    "\n",
    "import blosc\n",
    "from timeit import default_timer as timer\n",
    "from time import sleep\n",
    "\n",
    "import zarr\n",
    "import h5py\n",
    "import gcsfs\n",
    "from dask_kubernetes import KubeCluster\n",
    "from dask.distributed import Client, progress, LocalCluster"
   ]
  },
  {
   "cell_type": "code",
   "execution_count": null,
   "metadata": {},
   "outputs": [
    {
     "name": "stdout",
     "output_type": "stream",
     "text": [
      "5.060499825049192e-05\n",
      "300.09343270499085\n",
      "600.1924176360044\n",
      "900.2680356810015\n",
      "1200.3675593590015\n",
      "1500.4677192419913\n",
      "1800.5678693419904\n",
      "2100.6565664910013\n",
      "2400.7234654600034\n",
      "3000.9104211109952\n",
      "3301.010559589995\n",
      "3601.104564919995\n",
      "3901.201312306992\n",
      "4201.295350796005\n",
      "4501.395648948994\n",
      "4801.493601640992\n",
      "5101.593565617004\n",
      "5401.682194933004\n",
      "5701.781561919997\n",
      "6001.881555947999\n",
      "6301.981573056997\n",
      "6602.081768386997\n",
      "6902.181572082001\n",
      "7202.281578170994\n",
      "7502.381779078001\n",
      "7802.466597252991\n",
      "8102.566552620992\n"
     ]
    }
   ],
   "source": [
    "start = timer()\n",
    "end = start\n",
    "while True:\n",
    "    print(timer() - start)\n",
    "    sleep(300)"
   ]
  },
  {
   "cell_type": "code",
   "execution_count": 2,
   "metadata": {},
   "outputs": [
    {
     "data": {
      "application/vnd.jupyter.widget-view+json": {
       "model_id": "bdd68a5ef01a44868c1aae1e88a453e8",
       "version_major": 2,
       "version_minor": 0
      },
      "text/plain": [
       "VBox(children=(HTML(value='<h2>KubeCluster</h2>'), HBox(children=(HTML(value='\\n<div>\\n  <style scoped>\\n    .…"
      ]
     },
     "metadata": {},
     "output_type": "display_data"
    }
   ],
   "source": [
    "cluster = KubeCluster(n_workers=120)\n",
    "cluster"
   ]
  },
  {
   "cell_type": "code",
   "execution_count": 4,
   "metadata": {},
   "outputs": [],
   "source": [
    "cluster.close()"
   ]
  },
  {
   "cell_type": "code",
   "execution_count": 17,
   "metadata": {},
   "outputs": [
    {
     "data": {
      "text/html": [
       "<table style=\"border: 2px solid white;\">\n",
       "<tr>\n",
       "<td style=\"vertical-align: top; border: 0px solid white\">\n",
       "<h3>Client</h3>\n",
       "<ul>\n",
       "  <li><b>Scheduler: </b>tcp://10.21.55.30:45433\n",
       "  <li><b>Dashboard: </b><a href='/user/kaipak/proxy/8787/status' target='_blank'>/user/kaipak/proxy/8787/status</a>\n",
       "</ul>\n",
       "</td>\n",
       "<td style=\"vertical-align: top; border: 0px solid white\">\n",
       "<h3>Cluster</h3>\n",
       "<ul>\n",
       "  <li><b>Workers: </b>120</li>\n",
       "  <li><b>Cores: </b>240</li>\n",
       "  <li><b>Memory: </b>720.00 GB</li>\n",
       "</ul>\n",
       "</td>\n",
       "</tr>\n",
       "</table>"
      ],
      "text/plain": [
       "<Client: scheduler='tcp://10.21.55.30:45433' processes=120 cores=240>"
      ]
     },
     "execution_count": 17,
     "metadata": {},
     "output_type": "execute_result"
    }
   ],
   "source": [
    "client = Client(cluster)\n",
    "client"
   ]
  },
  {
   "cell_type": "code",
   "execution_count": 8,
   "metadata": {},
   "outputs": [],
   "source": [
    "fs = gcsfs.GCSFileSystem(project='pangeo-181919', token='cache')\n",
    "token = fs.session.credentials\n",
    "fs2 = gcsfs.GCSFileSystem(project='pangeo-181919', token=token)\n",
    "gcsmap_zarr = gcsfs.GCSMap('pangeo-data/storage-benchmarks/llc4320_zarr', gcs=fs2)"
   ]
  },
  {
   "cell_type": "code",
   "execution_count": 9,
   "metadata": {},
   "outputs": [
    {
     "name": "stdout",
     "output_type": "stream",
     "text": [
      "CPU times: user 3.21 s, sys: 235 ms, total: 3.45 s\n",
      "Wall time: 11.7 s\n"
     ]
    }
   ],
   "source": [
    "%time llc_zarr = xr.open_zarr(gcsmap_zarr, decode_cf=True, decode_times=False)"
   ]
  },
  {
   "cell_type": "code",
   "execution_count": 22,
   "metadata": {},
   "outputs": [
    {
     "name": "stdout",
     "output_type": "stream",
     "text": [
      "<xarray.DataArray 'Theta' (time: 417, Z: 90, YC: 2160, XC: 2160)>\n",
      "dask.array<shape=(417, 90, 2160, 2160), dtype=float32, chunksize=(1, 1, 2160, 2160)>\n",
      "Coordinates:\n",
      "  * XC       (XC) float32 -15.489583 -15.46875 -15.447917 -15.427083 ...\n",
      "  * YC       (YC) float32 -57.001026 -56.989952 -56.978878 -56.9678 ...\n",
      "  * Z        (Z) float32 -0.5 -1.57 -2.79 -4.185 -5.78 -7.595 -9.66 -12.01 ...\n",
      "  * time     (time) float64 2.502e+06 2.506e+06 2.509e+06 2.513e+06 ...\n",
      "Attributes:\n",
      "    coordinates:    iter\n",
      "    long_name:      Potential Temperature\n",
      "    standard_name:  THETA\n",
      "    units:          degC\n",
      "652.2982120513916\n"
     ]
    },
    {
     "data": {
      "text/html": [
       "<table class=\"zarr-info\"><tbody><tr><th style=\"text-align: left\">Name</th><td style=\"text-align: left\">/Theta</td></tr><tr><th style=\"text-align: left\">Type</th><td style=\"text-align: left\">zarr.core.Array</td></tr><tr><th style=\"text-align: left\">Data type</th><td style=\"text-align: left\">float32</td></tr><tr><th style=\"text-align: left\">Shape</th><td style=\"text-align: left\">(417, 90, 2160, 2160)</td></tr><tr><th style=\"text-align: left\">Chunk shape</th><td style=\"text-align: left\">(1, 1, 2160, 2160)</td></tr><tr><th style=\"text-align: left\">Order</th><td style=\"text-align: left\">C</td></tr><tr><th style=\"text-align: left\">Read-only</th><td style=\"text-align: left\">False</td></tr><tr><th style=\"text-align: left\">Compressor</th><td style=\"text-align: left\">Blosc(cname='lz4', clevel=5, shuffle=SHUFFLE, blocksize=0)</td></tr><tr><th style=\"text-align: left\">Store type</th><td style=\"text-align: left\">gcsfs.mapping.GCSMap</td></tr><tr><th style=\"text-align: left\">No. bytes</th><td style=\"text-align: left\">700399872000 (652.3G)</td></tr><tr><th style=\"text-align: left\">Chunks initialized</th><td style=\"text-align: left\">37530/37530</td></tr></tbody></table>"
      ],
      "text/plain": [
       "Name               : /Theta\n",
       "Type               : zarr.core.Array\n",
       "Data type          : float32\n",
       "Shape              : (417, 90, 2160, 2160)\n",
       "Chunk shape        : (1, 1, 2160, 2160)\n",
       "Order              : C\n",
       "Read-only          : False\n",
       "Compressor         : Blosc(cname='lz4', clevel=5, shuffle=SHUFFLE, blocksize=0)\n",
       "Store type         : gcsfs.mapping.GCSMap\n",
       "No. bytes          : 700399872000 (652.3G)\n",
       "Chunks initialized : 37530/37530"
      ]
     },
     "execution_count": 22,
     "metadata": {},
     "output_type": "execute_result"
    }
   ],
   "source": [
    "sea_temps = llc_zarr.Theta\n",
    "print(sea_temps)\n",
    "print(sea_temps.nbytes / 1024**3)\n",
    "\n",
    "za = zarr.open_group(gcsmap_zarr)\n",
    "za['Theta'].info"
   ]
  },
  {
   "cell_type": "code",
   "execution_count": 23,
   "metadata": {},
   "outputs": [],
   "source": [
    "mean_temps = sea_temps.mean()"
   ]
  },
  {
   "cell_type": "code",
   "execution_count": 24,
   "metadata": {},
   "outputs": [
    {
     "name": "stderr",
     "output_type": "stream",
     "text": [
      "distributed.utils_perf - WARNING - full garbage collections took 11% CPU time recently (threshold: 10%)\n",
      "distributed.utils_perf - WARNING - full garbage collections took 11% CPU time recently (threshold: 10%)\n",
      "distributed.utils_perf - WARNING - full garbage collections took 11% CPU time recently (threshold: 10%)\n",
      "distributed.utils_perf - WARNING - full garbage collections took 11% CPU time recently (threshold: 10%)\n",
      "Future exception was never retrieved\n",
      "future: <Future finished exception=WebSocketClosedError()>\n",
      "Traceback (most recent call last):\n",
      "  File \"/opt/conda/lib/python3.6/site-packages/tornado/websocket.py\", line 808, in wrapper\n",
      "    yield fut\n",
      "  File \"/opt/conda/lib/python3.6/site-packages/tornado/gen.py\", line 1099, in run\n",
      "    value = future.result()\n",
      "tornado.iostream.StreamClosedError: Stream is closed\n",
      "\n",
      "During handling of the above exception, another exception occurred:\n",
      "\n",
      "Traceback (most recent call last):\n",
      "  File \"/opt/conda/lib/python3.6/site-packages/tornado/gen.py\", line 1107, in run\n",
      "    yielded = self.gen.throw(*exc_info)\n",
      "  File \"/opt/conda/lib/python3.6/site-packages/tornado/websocket.py\", line 810, in wrapper\n",
      "    raise WebSocketClosedError()\n",
      "tornado.websocket.WebSocketClosedError\n",
      "distributed.utils_perf - WARNING - full garbage collections took 11% CPU time recently (threshold: 10%)\n",
      "distributed.utils_perf - WARNING - full garbage collections took 10% CPU time recently (threshold: 10%)\n",
      "distributed.utils_perf - WARNING - full garbage collections took 10% CPU time recently (threshold: 10%)\n",
      "distributed.utils_perf - WARNING - full garbage collections took 11% CPU time recently (threshold: 10%)\n",
      "distributed.utils_perf - WARNING - full garbage collections took 11% CPU time recently (threshold: 10%)\n",
      "distributed.utils_perf - WARNING - full garbage collections took 11% CPU time recently (threshold: 10%)\n",
      "distributed.utils_perf - WARNING - full garbage collections took 11% CPU time recently (threshold: 10%)\n",
      "distributed.utils_perf - WARNING - full garbage collections took 11% CPU time recently (threshold: 10%)\n",
      "distributed.utils_perf - WARNING - full garbage collections took 11% CPU time recently (threshold: 10%)\n",
      "distributed.utils_perf - WARNING - full garbage collections took 11% CPU time recently (threshold: 10%)\n",
      "distributed.utils_perf - WARNING - full garbage collections took 11% CPU time recently (threshold: 10%)\n",
      "distributed.utils_perf - WARNING - full garbage collections took 11% CPU time recently (threshold: 10%)\n"
     ]
    },
    {
     "name": "stdout",
     "output_type": "stream",
     "text": [
      "CPU times: user 1min 26s, sys: 3.81 s, total: 1min 29s\n",
      "Wall time: 1min 31s\n"
     ]
    },
    {
     "data": {
      "text/plain": [
       "<xarray.DataArray 'Theta' ()>\n",
       "array(4.127072, dtype=float32)"
      ]
     },
     "execution_count": 24,
     "metadata": {},
     "output_type": "execute_result"
    }
   ],
   "source": [
    "%time mean_temps.compute(retries=3)"
   ]
  },
  {
   "cell_type": "code",
   "execution_count": 21,
   "metadata": {},
   "outputs": [],
   "source": [
    "del mean_temps\n",
    "del sea_temps"
   ]
  },
  {
   "cell_type": "code",
   "execution_count": null,
   "metadata": {},
   "outputs": [],
   "source": [
    "def randn(shape, frac_nan=None, chunks=None, seed=0):\n",
    "    rng = np.random.RandomState(seed)\n",
    "    if chunks is None:\n",
    "        x = rng.standard_normal(shape)\n",
    "    else:\n",
    "        import dask.array as da\n",
    "        rng = da.random.RandomState(seed)\n",
    "        x = rng.standard_normal(shape, chunks=chunks)\n",
    "\n",
    "    if frac_nan is not None:\n",
    "        inds = rng.choice(range(x.size), int(x.size * frac_nan))\n",
    "        x.flat[inds] = np.nan\n",
    "\n",
    "    return x\n",
    "\n",
    "def randint(low, high=None, size=None, frac_minus=None, seed=0):\n",
    "    rng = np.random.RandomState(seed)\n",
    "    x = rng.randint(low, high, size)\n",
    "    if frac_minus is not None:\n",
    "        inds = rng.choice(range(x.size), int(x.size * frac_minus))\n",
    "        x.flat[inds] = -1\n",
    "\n",
    "    return x\n",
    "\n",
    "def rand_numpy(nz=None, empty=True):\n",
    "    \"\"\"\n",
    "    Generate random 3D Numpy dataset.\n",
    "\n",
    "    :params;\n",
    "\n",
    "    \"\"\"\n",
    "    if nz == None:\n",
    "        nz = getTestConfigValue(\"num_slices\")\n",
    "    if not nz or nz <= 0:\n",
    "        raise NotImplementedError(\"num_slices invalid\")\n",
    "    ny = 1000\n",
    "    nx = 1000\n",
    "    dtype = 'f8'\n",
    "    # Create a dataset\n",
    "    #dset = f.create_dataset(_DATASET_NAME, shape=(nz,ny,nx), dtype=dtype)\n",
    "\n",
    "    data = np.random.rand(nz,nx,ny)\n",
    "    return data\n",
    "\n",
    "def rand_xarray(nt=None):\n",
    "    \"\"\"\n",
    "    Generate synthetic geoscience-like Xarray dataset filled with random \n",
    "    data.\n",
    "    :param ds: dataset that gets generated.\n",
    "    :param nt: number of timesteps for data. Primary control over how large\n",
    "               the dataset is.\n",
    "    :returns: A synthetic xarray dataset that mimics geodata.\n",
    "    \"\"\"\n",
    "\n",
    "    ds = xr.Dataset()\n",
    "    if nt == None:\n",
    "        nt = getTestConfigValue(\"ntime_slices\")\n",
    "    ny = 1000\n",
    "    nx = 1000\n",
    "    block_chunks = {'time': nt / 4,\n",
    "                             'lon': nx / 3,\n",
    "                             'lat': ny / 3}\n",
    "\n",
    "    time_chunks = {'time': int(nt / 36)}\n",
    "\n",
    "    times = pd.date_range('1970-01-01', periods=nt, freq='D')\n",
    "    lons = xr.DataArray(np.linspace(0, 360, nx), dims=('lon', ),\n",
    "                        attrs={'units': 'degrees east',\n",
    "                               'long_name': 'longitude'})\n",
    "    lats = xr.DataArray(np.linspace(-90, 90, ny), dims=('lat', ),\n",
    "                        attrs={'units':'degrees north',\n",
    "                               'long_name': 'latitude'})\n",
    "    ds['foo'] = xr.DataArray(randn((nt, nx, ny), frac_nan=0.2),\n",
    "                             coords={'lon': lons, 'lat': lats,'time': times},\n",
    "                             dims=('time', 'lon', 'lat'),\n",
    "                             name='foo', encoding=None,\n",
    "                             attrs={'units': 'foo units',\n",
    "                                    'description': 'a description'})\n",
    "    ds['bar'] = xr.DataArray(randn((nt, nx, ny), frac_nan=0.2),\n",
    "                             coords={'lon': lons, 'lat': lats, 'time': times},\n",
    "                             dims=('time', 'lon', 'lat'),\n",
    "                             name='bar', encoding=None,\n",
    "                             attrs={'units': 'bar units',\n",
    "                                    'description': 'a description'})\n",
    "    ds['baz'] = xr.DataArray(randn((nx, ny), frac_nan=0.2).astype(np.float32),\n",
    "                             coords={'lon': lons, 'lat': lats},\n",
    "                             dims=('lon', 'lat'),\n",
    "                             name='baz', encoding=None,\n",
    "                             attrs={'units': 'baz units',\n",
    "                                    'description': 'a description'})\n",
    "\n",
    "    ds.attrs = {'history': 'created for xarray benchmarking'}\n",
    "\n",
    "    oinds = {'time': randint(0, nt, 120),\n",
    "             'lon': randint(0, nx, 20),\n",
    "             'lat': randint(0, ny, 10)}\n",
    "    vinds = {'time': xr.DataArray(randint(0, nt, 120), dims='x'),\n",
    "             'lon': xr.DataArray(randint(0, nx, 120), dims='x'),\n",
    "             'lat': slice(3, 20)}\n",
    "\n",
    "    return ds\n",
    "\n"
   ]
  },
  {
   "cell_type": "code",
   "execution_count": null,
   "metadata": {},
   "outputs": [],
   "source": [
    "np_ds = rand_numpy(64)\n",
    "np_ds.nbytes/ 1024**2"
   ]
  },
  {
   "cell_type": "code",
   "execution_count": null,
   "metadata": {},
   "outputs": [],
   "source": [
    "xr_ds = rand_xarray(32)\n",
    "print(xr_ds.nbytes/ 1024**2)"
   ]
  },
  {
   "cell_type": "code",
   "execution_count": null,
   "metadata": {},
   "outputs": [],
   "source": [
    "fs = gcsfs.GCSFileSystem(project='pangeo-181919', token='cache')\n",
    "token = fs.session.credentials\n",
    "fs2 = gcsfs.GCSFileSystem(project='pangeo-181919', token=token)\n",
    "gcsmap_zarr_hoff = gcsfs.GCSMap('pangeo-data/storage-benchmarks/test_zarr_hoff', gcs=fs2)"
   ]
  },
  {
   "cell_type": "code",
   "execution_count": null,
   "metadata": {},
   "outputs": [],
   "source": [
    "chunks = (1, 4000, 4000)\n",
    "size = (2000, 4000, 4000)\n",
    "dask_arr = da.random.normal(10, 0.1, size=size, chunks=chunks)\n",
    "dask_arr.nbytes/ 1024**3"
   ]
  },
  {
   "cell_type": "code",
   "execution_count": null,
   "metadata": {},
   "outputs": [],
   "source": [
    "zarr_ds = zarr.create(dask_arr.shape, chunks=chunks, \n",
    "                       dtype=dask_arr.dtype, store=gcsmap_zarr_hoff, overwrite=True)"
   ]
  },
  {
   "cell_type": "code",
   "execution_count": null,
   "metadata": {},
   "outputs": [],
   "source": [
    "%time dask_arr.store(zarr_ds, lock=False)"
   ]
  },
  {
   "cell_type": "code",
   "execution_count": null,
   "metadata": {},
   "outputs": [],
   "source": [
    "for i in range(3):\n",
    "    dask_arr = da.random.normal(10, 0.1, size=size, chunks=chunks)\n",
    "    %time dask_arr.store(zarr_ds, lock=False)\n",
    "    del dask_arr"
   ]
  },
  {
   "cell_type": "markdown",
   "metadata": {},
   "source": [
    "### NetCDF Testing"
   ]
  },
  {
   "cell_type": "code",
   "execution_count": null,
   "metadata": {},
   "outputs": [],
   "source": [
    "chunksize = 10\n",
    "%time ds_nc = xr.open_mfdataset('/gcs/storage-benchmarks/llc4320_netcdf/*.nc', decode_cf=False, autoclose=True, chunks={'k': chunksize, 'k_l': chunksize})"
   ]
  },
  {
   "cell_type": "code",
   "execution_count": null,
   "metadata": {},
   "outputs": [],
   "source": [
    "ds_nc"
   ]
  },
  {
   "cell_type": "code",
   "execution_count": null,
   "metadata": {},
   "outputs": [],
   "source": [
    "mean_theta = ds_nc.Theta.mean()\n",
    "ds_nc.Theta.nbytes / 1024**3"
   ]
  },
  {
   "cell_type": "code",
   "execution_count": null,
   "metadata": {},
   "outputs": [],
   "source": [
    "%time mean_theta.load()"
   ]
  },
  {
   "cell_type": "code",
   "execution_count": null,
   "metadata": {},
   "outputs": [],
   "source": [
    "del mean_theta\n",
    "del ds_nc"
   ]
  },
  {
   "cell_type": "code",
   "execution_count": null,
   "metadata": {},
   "outputs": [],
   "source": [
    "54.7 / 80"
   ]
  },
  {
   "cell_type": "code",
   "execution_count": null,
   "metadata": {},
   "outputs": [],
   "source": [
    "ds_nc"
   ]
  },
  {
   "cell_type": "code",
   "execution_count": null,
   "metadata": {},
   "outputs": [],
   "source": [
    "ds_nc"
   ]
  },
  {
   "cell_type": "code",
   "execution_count": null,
   "metadata": {},
   "outputs": [],
   "source": [
    "import kube\n",
    "cluster = kube.Cluster()"
   ]
  },
  {
   "cell_type": "code",
   "execution_count": null,
   "metadata": {},
   "outputs": [],
   "source": []
  }
 ],
 "metadata": {
  "kernelspec": {
   "display_name": "Python [conda root]",
   "language": "python",
   "name": "conda-root-py"
  },
  "language_info": {
   "codemirror_mode": {
    "name": "ipython",
    "version": 3
   },
   "file_extension": ".py",
   "mimetype": "text/x-python",
   "name": "python",
   "nbconvert_exporter": "python",
   "pygments_lexer": "ipython3",
   "version": "3.6.3"
  }
 },
 "nbformat": 4,
 "nbformat_minor": 2
}
